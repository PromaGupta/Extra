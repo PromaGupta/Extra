{
 "cells": [
  {
   "cell_type": "code",
   "execution_count": 1,
   "id": "3fd67d81",
   "metadata": {},
   "outputs": [
    {
     "name": "stdout",
     "output_type": "stream",
     "text": [
      "Proma Sen Gupta\n"
     ]
    }
   ],
   "source": [
    "print(\"Proma Sen Gupta\")"
   ]
  },
  {
   "cell_type": "code",
   "execution_count": 2,
   "id": "2925714e",
   "metadata": {},
   "outputs": [
    {
     "name": "stdout",
     "output_type": "stream",
     "text": [
      "Proma Sen Gupta \n",
      " 01671825016\n"
     ]
    }
   ],
   "source": [
    "print(\"Proma Sen Gupta \\n 01671825016\")"
   ]
  },
  {
   "cell_type": "code",
   "execution_count": 3,
   "id": "65996e40",
   "metadata": {},
   "outputs": [
    {
     "name": "stdout",
     "output_type": "stream",
     "text": [
      "New Student name is Puja\n",
      "Puja Lives in Dhaka\n",
      "Age of Puja is 24\n",
      "her CGPA is 2.93\n"
     ]
    }
   ],
   "source": [
    "name = \"Proma\"\n",
    "\n",
    "print (\"New Student name is Puja\")\n",
    "print (\"Puja Lives in Dhaka\")\n",
    "print (\"Age of Puja is 24\")\n",
    "print (\"her CGPA is 2.93\")"
   ]
  },
  {
   "cell_type": "code",
   "execution_count": 4,
   "id": "64fd9c54",
   "metadata": {},
   "outputs": [
    {
     "name": "stdout",
     "output_type": "stream",
     "text": [
      "New student name is Prianka\n",
      "Prianka Lives in Dhaka\n",
      "Prianka Age is  56\n"
     ]
    }
   ],
   "source": [
    "name = \"Prianka\"\n",
    "Age = 56\n",
    "print (\"New student name is \"+name)\n",
    "print (name  +  \" Lives in Dhaka\")\n",
    "print (name  +  \" Age is \" , Age)"
   ]
  },
  {
   "cell_type": "code",
   "execution_count": 5,
   "id": "ddac8f58",
   "metadata": {},
   "outputs": [
    {
     "name": "stdout",
     "output_type": "stream",
     "text": [
      "10\n",
      "-2\n",
      "0\n",
      "4\n"
     ]
    }
   ],
   "source": [
    "a = 4\n",
    "b = 6\n",
    "\n",
    "print (a+b)\n",
    "print (a-b)\n",
    "print (a//b)\n",
    "print (a % b)"
   ]
  },
  {
   "cell_type": "code",
   "execution_count": 6,
   "id": "fb9aabb3",
   "metadata": {},
   "outputs": [
    {
     "name": "stdout",
     "output_type": "stream",
     "text": [
      "216\n"
     ]
    }
   ],
   "source": [
    "print (6**3)"
   ]
  },
  {
   "cell_type": "code",
   "execution_count": 7,
   "id": "8535beab",
   "metadata": {},
   "outputs": [
    {
     "name": "stdout",
     "output_type": "stream",
     "text": [
      "<class 'int'>\n"
     ]
    }
   ],
   "source": [
    "num = 21\n",
    "print (type(num))"
   ]
  },
  {
   "cell_type": "code",
   "execution_count": 8,
   "id": "231b29cc",
   "metadata": {},
   "outputs": [
    {
     "name": "stdout",
     "output_type": "stream",
     "text": [
      "<class 'bool'>\n"
     ]
    }
   ],
   "source": [
    "num = 31\n",
    "print (type(True))"
   ]
  },
  {
   "cell_type": "code",
   "execution_count": 9,
   "id": "92f6a176",
   "metadata": {},
   "outputs": [
    {
     "name": "stdout",
     "output_type": "stream",
     "text": [
      "Anisul Islam.0152\n"
     ]
    }
   ],
   "source": [
    "print (\"Anisul Islam.\",end = \"\")\n",
    "print (\"0152\")"
   ]
  },
  {
   "cell_type": "code",
   "execution_count": 10,
   "id": "f323e531",
   "metadata": {},
   "outputs": [
    {
     "name": "stdout",
     "output_type": "stream",
     "text": [
      "False\n",
      "True\n",
      "True\n",
      "True\n"
     ]
    }
   ],
   "source": [
    "#Boolean Value: true and false\n",
    "\n",
    "print(20>30)\n",
    "print(30>=15)\n",
    "print(10!=30)\n",
    "print(\"hello\" == \"hello\")"
   ]
  },
  {
   "cell_type": "code",
   "execution_count": 11,
   "id": "38b08fcb",
   "metadata": {},
   "outputs": [
    {
     "ename": "SyntaxError",
     "evalue": "cannot assign to literal (Temp/ipykernel_7532/2713136084.py, line 1)",
     "output_type": "error",
     "traceback": [
      "\u001b[1;36m  File \u001b[1;32m\"C:\\Users\\PROMA~1.GUP\\AppData\\Local\\Temp/ipykernel_7532/2713136084.py\"\u001b[1;36m, line \u001b[1;32m1\u001b[0m\n\u001b[1;33m    \"hello\" = \"hello\"\u001b[0m\n\u001b[1;37m    ^\u001b[0m\n\u001b[1;31mSyntaxError\u001b[0m\u001b[1;31m:\u001b[0m cannot assign to literal\n"
     ]
    }
   ],
   "source": [
    "\"hello\" = \"hello\""
   ]
  },
  {
   "cell_type": "code",
   "execution_count": null,
   "id": "2d7a5085",
   "metadata": {},
   "outputs": [],
   "source": [
    "#if, else\n",
    "\n",
    "mark = 80\n",
    "if mark >= 33:\n",
    "    print(\"Pass\")\n",
    "    \n",
    "if mark <= 33:\n",
    "    print (\"Fail\")\n",
    "    \n",
    "mark = 20\n",
    "if mark >= 33:\n",
    "    print(\"Pass\")\n",
    "\n",
    "else:\n",
    "    print(\"Fail\")"
   ]
  },
  {
   "cell_type": "code",
   "execution_count": null,
   "id": "665b4564",
   "metadata": {},
   "outputs": [],
   "source": [
    "num1 = 20\n",
    "num2 = 40\n",
    "\n",
    "if num2 > num1:\n",
    "    print(\"pass\")\n",
    "    \n",
    "if num2 < num1:\n",
    "    print(\"fail\")\n"
   ]
  },
  {
   "cell_type": "code",
   "execution_count": null,
   "id": "3c226e33",
   "metadata": {},
   "outputs": [],
   "source": [
    "#even/odd\n",
    "\n",
    "num = 5\n",
    "\n",
    "if num%2 == 0:\n",
    "    print(\"even\")\n",
    "    \n",
    "else:\n",
    "    print(\"odd\")\n",
    "    \n",
    "num = 8\n",
    "\n",
    "if num%2 == 0:\n",
    "    print(\"even\")\n",
    "    \n",
    "else:\n",
    "    print(\"odd\")"
   ]
  },
  {
   "cell_type": "code",
   "execution_count": null,
   "id": "05b7ea5b",
   "metadata": {},
   "outputs": [],
   "source": []
  },
  {
   "cell_type": "code",
   "execution_count": null,
   "id": "42044e64",
   "metadata": {},
   "outputs": [],
   "source": []
  },
  {
   "cell_type": "code",
   "execution_count": null,
   "id": "5586fed1",
   "metadata": {},
   "outputs": [],
   "source": [
    "list1 = 3, 6, 12, 9\n",
    "\n",
    "if list1/3 == 0:\n",
    "    print(\"even\")\n",
    "    \n",
    "else:\n",
    "    print(\"odd\")"
   ]
  },
  {
   "cell_type": "code",
   "execution_count": null,
   "id": "0ea6a989",
   "metadata": {},
   "outputs": [],
   "source": [
    "list1 = 3\n",
    "\n",
    "if list1/3 == 0:\n",
    "    print(\"even\")\n",
    "    \n",
    "else:\n",
    "    print(\"odd\")"
   ]
  },
  {
   "cell_type": "code",
   "execution_count": null,
   "id": "8f29efea",
   "metadata": {},
   "outputs": [],
   "source": [
    "marks = 55\n",
    "\n",
    "if marks > 70:\n",
    "    print(\"A\")\n",
    "elif marks > 60:\n",
    "    print(\"B\")\n",
    "elif marks > 50:\n",
    "    print(\"C\")"
   ]
  },
  {
   "cell_type": "code",
   "execution_count": null,
   "id": "dbaaf8d5",
   "metadata": {},
   "outputs": [],
   "source": [
    "num1 = 90\n",
    "num2 = 110\n",
    "num3 = 60\n",
    "\n",
    "if num1 > num2 and num1 > num3:\n",
    "    print(num1)\n",
    "elif num2 > num1 and num2 > num3:\n",
    "    print(num2)\n",
    "else:\n",
    "    print(num3)\n"
   ]
  },
  {
   "cell_type": "code",
   "execution_count": null,
   "id": "bdd55313",
   "metadata": {},
   "outputs": [],
   "source": [
    "ch = 'a'\n",
    "\n",
    "if ch == 'a' or ch == 'e' or ch == 'i' or ch == 'o' or ch == 'u':\n",
    "    print (\"Vowel\")\n",
    "    \n",
    "else:\n",
    "    print(\"Conson\")"
   ]
  },
  {
   "cell_type": "code",
   "execution_count": null,
   "id": "52a54ca5",
   "metadata": {},
   "outputs": [],
   "source": [
    "marks = 60\n",
    "\n",
    "if marks >= 80 and marks <= 100 :\n",
    "    print(\"A\")\n",
    "elif marks >= 60 and marks <= 80 :\n",
    "    print(\"A-\")\n",
    "elif marks >= 40 and marks <= 60 :\n",
    "    print(\"B\")"
   ]
  },
  {
   "cell_type": "code",
   "execution_count": null,
   "id": "948646eb",
   "metadata": {},
   "outputs": [],
   "source": [
    "#while loop\n",
    "\n",
    "#1. start 2. condition 3. update\n",
    "\n",
    "i = 1\n",
    "while i<=20:\n",
    "    print (i)\n",
    "    i = i + 1\n",
    "\n"
   ]
  },
  {
   "cell_type": "code",
   "execution_count": null,
   "id": "8a0a8d24",
   "metadata": {},
   "outputs": [],
   "source": [
    "i = 1\n",
    "while i<=20:\n",
    "    print (i)\n",
    "    i = i + 1"
   ]
  },
  {
   "cell_type": "code",
   "execution_count": null,
   "id": "968b5b48",
   "metadata": {},
   "outputs": [],
   "source": [
    "i = 1\n",
    "while i<=20:\n",
    "    print (\"Bangladesh\")\n",
    "    i = i + 1"
   ]
  },
  {
   "cell_type": "code",
   "execution_count": null,
   "id": "b8dd0603",
   "metadata": {},
   "outputs": [],
   "source": [
    "i = \n",
    "while i <= 100:\n",
    "    print (\"i\")\n",
    "    i = i + 2\n",
    "print (\"Program End\")"
   ]
  },
  {
   "cell_type": "code",
   "execution_count": null,
   "id": "b80626e8",
   "metadata": {},
   "outputs": [],
   "source": [
    "print (\"Krishna\")"
   ]
  },
  {
   "cell_type": "code",
   "execution_count": null,
   "id": "e96bbd5c",
   "metadata": {},
   "outputs": [],
   "source": []
  },
  {
   "cell_type": "code",
   "execution_count": null,
   "id": "d5f62c6d",
   "metadata": {},
   "outputs": [],
   "source": []
  },
  {
   "cell_type": "code",
   "execution_count": null,
   "id": "322f48f3",
   "metadata": {},
   "outputs": [],
   "source": []
  },
  {
   "cell_type": "code",
   "execution_count": null,
   "id": "6a186285",
   "metadata": {},
   "outputs": [],
   "source": []
  },
  {
   "cell_type": "code",
   "execution_count": null,
   "id": "3a5c78b0",
   "metadata": {},
   "outputs": [],
   "source": []
  },
  {
   "cell_type": "code",
   "execution_count": null,
   "id": "ee25276c",
   "metadata": {},
   "outputs": [],
   "source": []
  },
  {
   "cell_type": "code",
   "execution_count": null,
   "id": "18c7d282",
   "metadata": {},
   "outputs": [],
   "source": []
  },
  {
   "cell_type": "code",
   "execution_count": null,
   "id": "86ae9b99",
   "metadata": {},
   "outputs": [],
   "source": []
  },
  {
   "cell_type": "code",
   "execution_count": null,
   "id": "2cb08cb2",
   "metadata": {},
   "outputs": [],
   "source": []
  },
  {
   "cell_type": "code",
   "execution_count": null,
   "id": "a6e7103b",
   "metadata": {},
   "outputs": [],
   "source": []
  },
  {
   "cell_type": "code",
   "execution_count": null,
   "id": "2c7765e2",
   "metadata": {},
   "outputs": [],
   "source": []
  },
  {
   "cell_type": "code",
   "execution_count": null,
   "id": "1f9d03aa",
   "metadata": {},
   "outputs": [],
   "source": []
  },
  {
   "cell_type": "code",
   "execution_count": null,
   "id": "f158fcea",
   "metadata": {},
   "outputs": [],
   "source": []
  },
  {
   "cell_type": "code",
   "execution_count": null,
   "id": "18b2a2b0",
   "metadata": {},
   "outputs": [],
   "source": []
  },
  {
   "cell_type": "code",
   "execution_count": null,
   "id": "c3085985",
   "metadata": {},
   "outputs": [],
   "source": []
  },
  {
   "cell_type": "code",
   "execution_count": null,
   "id": "84eca8ab",
   "metadata": {},
   "outputs": [],
   "source": []
  },
  {
   "cell_type": "code",
   "execution_count": null,
   "id": "ecad8a70",
   "metadata": {},
   "outputs": [],
   "source": []
  },
  {
   "cell_type": "code",
   "execution_count": null,
   "id": "ef65d1be",
   "metadata": {},
   "outputs": [],
   "source": []
  },
  {
   "cell_type": "code",
   "execution_count": null,
   "id": "4088d265",
   "metadata": {},
   "outputs": [],
   "source": []
  },
  {
   "cell_type": "code",
   "execution_count": null,
   "id": "ac2731c0",
   "metadata": {},
   "outputs": [],
   "source": []
  },
  {
   "cell_type": "code",
   "execution_count": null,
   "id": "909a734d",
   "metadata": {},
   "outputs": [],
   "source": []
  },
  {
   "cell_type": "code",
   "execution_count": null,
   "id": "ed8bce40",
   "metadata": {},
   "outputs": [],
   "source": []
  },
  {
   "cell_type": "code",
   "execution_count": null,
   "id": "1b534053",
   "metadata": {},
   "outputs": [],
   "source": []
  },
  {
   "cell_type": "code",
   "execution_count": null,
   "id": "35dbe0d5",
   "metadata": {},
   "outputs": [],
   "source": []
  },
  {
   "cell_type": "code",
   "execution_count": null,
   "id": "43366fd8",
   "metadata": {},
   "outputs": [],
   "source": []
  },
  {
   "cell_type": "code",
   "execution_count": null,
   "id": "79cc5fdc",
   "metadata": {},
   "outputs": [],
   "source": []
  },
  {
   "cell_type": "code",
   "execution_count": null,
   "id": "f195e626",
   "metadata": {},
   "outputs": [],
   "source": []
  },
  {
   "cell_type": "code",
   "execution_count": null,
   "id": "a9e93f65",
   "metadata": {},
   "outputs": [],
   "source": []
  },
  {
   "cell_type": "code",
   "execution_count": null,
   "id": "0f2a76ee",
   "metadata": {},
   "outputs": [],
   "source": []
  },
  {
   "cell_type": "code",
   "execution_count": null,
   "id": "96c2ada1",
   "metadata": {},
   "outputs": [],
   "source": []
  },
  {
   "cell_type": "code",
   "execution_count": null,
   "id": "c0037bd1",
   "metadata": {},
   "outputs": [],
   "source": []
  },
  {
   "cell_type": "code",
   "execution_count": null,
   "id": "668fd775",
   "metadata": {},
   "outputs": [],
   "source": []
  },
  {
   "cell_type": "code",
   "execution_count": null,
   "id": "e2a4744b",
   "metadata": {},
   "outputs": [],
   "source": []
  },
  {
   "cell_type": "code",
   "execution_count": null,
   "id": "5ff4f364",
   "metadata": {},
   "outputs": [],
   "source": []
  },
  {
   "cell_type": "code",
   "execution_count": null,
   "id": "205863ee",
   "metadata": {},
   "outputs": [],
   "source": []
  },
  {
   "cell_type": "code",
   "execution_count": null,
   "id": "87a18d2b",
   "metadata": {},
   "outputs": [],
   "source": []
  }
 ],
 "metadata": {
  "kernelspec": {
   "display_name": "Python 3 (ipykernel)",
   "language": "python",
   "name": "python3"
  },
  "language_info": {
   "codemirror_mode": {
    "name": "ipython",
    "version": 3
   },
   "file_extension": ".py",
   "mimetype": "text/x-python",
   "name": "python",
   "nbconvert_exporter": "python",
   "pygments_lexer": "ipython3",
   "version": "3.8.12"
  }
 },
 "nbformat": 4,
 "nbformat_minor": 5
}
