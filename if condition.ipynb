{
 "cells": [
  {
   "cell_type": "code",
   "execution_count": 1,
   "id": "1de87b19",
   "metadata": {},
   "outputs": [
    {
     "name": "stdout",
     "output_type": "stream",
     "text": [
      "i love u\n"
     ]
    }
   ],
   "source": [
    "#CONDITIONALS\n",
    "\n",
    "language = 'Python'\n",
    "\n",
    "if language == 'Python':\n",
    "    print('i love u')"
   ]
  },
  {
   "cell_type": "code",
   "execution_count": 2,
   "id": "f36b8369",
   "metadata": {},
   "outputs": [
    {
     "name": "stdout",
     "output_type": "stream",
     "text": [
      "i love u\n"
     ]
    }
   ],
   "source": [
    "language = 'Python'\n",
    "\n",
    "if language == 'Python':\n",
    "    print('i love u')\n",
    "    \n",
    "else:\n",
    "    print('hate')"
   ]
  },
  {
   "cell_type": "code",
   "execution_count": 3,
   "id": "dad7e7e6",
   "metadata": {},
   "outputs": [
    {
     "name": "stdout",
     "output_type": "stream",
     "text": [
      "hate\n"
     ]
    }
   ],
   "source": [
    "language = 'Java'\n",
    "\n",
    "if language == 'Python':\n",
    "    print('i love u')\n",
    "    \n",
    "else:\n",
    "    print('hate')"
   ]
  },
  {
   "cell_type": "code",
   "execution_count": 4,
   "id": "99a959d6",
   "metadata": {},
   "outputs": [
    {
     "name": "stdout",
     "output_type": "stream",
     "text": [
      "No\n"
     ]
    }
   ],
   "source": [
    "language = 'R prog'\n",
    "\n",
    "if language == 'Python':\n",
    "    print('Python')\n",
    "    \n",
    "elif language == 'Java':\n",
    "    print('Java')\n",
    "    \n",
    "else:\n",
    "    print('No')"
   ]
  },
  {
   "cell_type": "code",
   "execution_count": 6,
   "id": "a7feba19",
   "metadata": {},
   "outputs": [
    {
     "name": "stdout",
     "output_type": "stream",
     "text": [
      "False\n"
     ]
    }
   ],
   "source": [
    "a = [1, 2, 3]\n",
    "b = [1, 2, 3]\n",
    "\n",
    "print(a is b)"
   ]
  },
  {
   "cell_type": "code",
   "execution_count": null,
   "id": "6f35e5a2",
   "metadata": {},
   "outputs": [],
   "source": []
  },
  {
   "cell_type": "code",
   "execution_count": null,
   "id": "89612880",
   "metadata": {},
   "outputs": [],
   "source": []
  }
 ],
 "metadata": {
  "kernelspec": {
   "display_name": "Python 3",
   "language": "python",
   "name": "python3"
  },
  "language_info": {
   "codemirror_mode": {
    "name": "ipython",
    "version": 3
   },
   "file_extension": ".py",
   "mimetype": "text/x-python",
   "name": "python",
   "nbconvert_exporter": "python",
   "pygments_lexer": "ipython3",
   "version": "3.8.8"
  }
 },
 "nbformat": 4,
 "nbformat_minor": 5
}
