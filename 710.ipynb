{
 "cells": [
  {
   "cell_type": "code",
   "execution_count": null,
   "id": "b9b3089c",
   "metadata": {},
   "outputs": [],
   "source": []
  },
  {
   "cell_type": "code",
   "execution_count": 1,
   "id": "b2a548d8",
   "metadata": {},
   "outputs": [],
   "source": [
    "# import datetime\n",
    "import os\n",
    "import pandas as pd\n",
    "import numpy as np\n",
    "import matplotlib.pyplot as plt\n",
    "from datlib.FRED import *\n",
    "from datlib.plots import *\n",
    "import pandas_datareader.data as web\n",
    "\n",
    "\n",
    "#FRED.py\n",
    "#. . . \n",
    "def bil_to_mil(series):\n",
    "    return series* 10**3\n",
    "# . . .\n",
    "#fedProject.py\n",
    "# . . .\n",
    "data_codes  = {# Assets\n",
    "               \"Balance Sheet: Total Assets ($ Mil)\": \"WALCL\",\n",
    "               \"Balance Sheet Securities, Prem-Disc, Repos, and Loans ($ Mil)\": \"WSRLL\",\n",
    "               \"Balance Sheet: Securities Held Outright ($ Mil)\": \"WSHOSHO\",\n",
    "               ### breakdown of securities holdings ###\n",
    "               \"Balance Sheet: U.S. Treasuries Held Outright ($ Mil)\":\"WSHOTSL\",\n",
    "               \"Balance Sheet: Federal Agency Debt Securities ($ Mil)\" : \"WSHOFADSL\",\n",
    "               \"Balance Sheet: Mortgage-Backed Securities ($ Mil)\": \"WSHOMCB\",\n",
    "               # other forms of lending\n",
    "               \"Balance Sheet: Repos ($ Mil)\": \"WORAL\",\n",
    "               \"Balance Sheet: Central Bank Liquidity Swaps ($ Mil)\" : \"SWPT\",\n",
    "               \"Balance Sheet: Direct Lending ($ Mil)\" : \"WLCFLL\",\n",
    "               # unamortized value of securities held (due to changes in interest rates)\n",
    "               \"Balance Sheet: Unamortized Security Premiums ($ Mil)\": \"WUPSHO\",\n",
    "               # Liabilities\n",
    "               \"Balance Sheet: Total Liabilities ($ Mil)\" : \"WLTLECL\",\n",
    "               \"Balance Sheet: Federal Reserve Notes Outstanding ($ Mil)\" : \"WLFN\",\n",
    "               \"Balance Sheet: Reverse Repos ($ Mil)\": \"WLRRAL\",\n",
    "               ### Major share of deposits \n",
    "               \"Balance Sheet: Deposits from Dep. Institutions ($ Mil)\":\"WLODLL\",\n",
    "               \"Balance Sheet: U.S. Treasury General Account ($ Mil)\": \"WDTGAL\",\n",
    "               \"Balance Sheet: Other Deposits ($ Mil)\": \"WOTHLB\",\n",
    "               \"Balance Sheet: All Deposits ($ Mil)\": \"WLDLCL\",\n",
    "               # Capital\n",
    "               \"Balance Sheet: Total Capital\": \"WCTCL\",\n",
    "               # Interest Rates\n",
    "               \"Unemployment Rate\": \"UNRATE\",\n",
    "               \"Nominal GDP ($ Bil)\":\"GDP\",\n",
    "               \"Real GDP ($ Bil)\":\"GDPC1\",\n",
    "               \"GDP Deflator\":\"GDPDEF\",\n",
    "               \"CPI\":\"CPIAUCSL\",\n",
    "               \"Core PCE\":\"PCEPILFE\",\n",
    "               \"Private Investment\":\"GPDI\",\n",
    "               \"Base: Total ($ Mil)\": \"BOGMBASE\",\n",
    "               \"Base: Currency in Circulation ($ Bil)\": \"WCURCIR\",\n",
    "               \"1 Month Treasury Rate (%)\": \"DGS1MO\",\n",
    "               \"3 Month Treasury Rate (%)\": \"DGS3MO\",               \n",
    "               \"1 Year Treasury Rate (%)\": \"DGS1\",\n",
    "               \"2 Year Treasury Rate (%)\": \"DGS2\",\n",
    "               \"10 Year Treasury Rate (%)\": \"DGS10\",\n",
    "               \"30 Year Treasury Rate (%)\": \"DGS30\",               \n",
    "               \"Effective Federal Funds Rate (%)\": \"DFF\",\n",
    "               \"Federal Funds Target Rate (Pre-crisis)\":\"DFEDTAR\",\n",
    "               \"Federal Funds Upper Target\":\"DFEDTARU\",\n",
    "               \"Federal Funds Lower Target\":\"DFEDTARL\",\n",
    "               \"Interest on Reserves (%)\": \"IOER\",\n",
    "               \"VIX\": \"VIXCLS\",\n",
    "                \"5 Year Forward Rate\": \"T5YIFR\"\n",
    "               }\n",
    "\n",
    "inflation_target = 2\n",
    "\n",
    "unemployment_target = 4\n",
    "# Select start and end dates\n",
    "start = datetime.datetime(2000, 1, 1)\n",
    "end = datetime.datetime.today()\n",
    "\n",
    "## year variable automatically adjusts the numper of periods  \n",
    "#   per year in light of data frequency\n",
    "annual_div = {\"Q\":4,\n",
    "             \"W\":52,\n",
    "             \"M\":12}\n",
    "### choose frequency\n",
    "freq = \"M\"\n",
    "### set periods per year\n",
    "year = annual_div[freq]"
   ]
  },
  {
   "cell_type": "code",
   "execution_count": 2,
   "id": "5f6ebc3b",
   "metadata": {},
   "outputs": [
    {
     "name": "stderr",
     "output_type": "stream",
     "text": [
      "C:\\Users\\proma.gupta\\Anaconda3\\lib\\site-packages\\pandas\\core\\arraylike.py:364: RuntimeWarning: divide by zero encountered in log\n",
      "  result = getattr(ufunc, method)(*inputs, **kwargs)\n"
     ]
    }
   ],
   "source": [
    "# freq refers to data frequency. Choose \"D\", \"W\", \"M\", \"Q\", \"A\"\n",
    "# a number may also be place in front of a letter. \"2D\" indicates\n",
    "#       alternating days\n",
    "\n",
    "if \"data_gathered\" not in locals():\n",
    "    data = gather_data(data_codes, start, \n",
    "          end = end, freq = freq)\n",
    "    data.fillna(0, inplace=True)\n",
    "    for key in data.keys():\n",
    "        data[\"Log \" + key]= np.log(data[key])\n",
    "    data_gathered = True"
   ]
  },
  {
   "cell_type": "code",
   "execution_count": 4,
   "id": "986aca13",
   "metadata": {},
   "outputs": [
    {
     "data": {
      "text/plain": [
       "DATE\n",
       "2002-12-31    6.764720e+05\n",
       "2003-01-31    6.794114e+05\n",
       "2003-02-28    6.798322e+05\n",
       "2003-03-31    6.834130e+05\n",
       "2003-04-30    6.870554e+05\n",
       "                  ...     \n",
       "2021-10-31    2.202444e+06\n",
       "2021-11-30    2.211626e+06\n",
       "2021-12-31    2.223944e+06\n",
       "2022-01-31    2.233695e+06\n",
       "2022-02-28    2.230436e+06\n",
       "Freq: M, Name: Base: Currency in Circulation ($ Mil), Length: 231, dtype: float64"
      ]
     },
     "execution_count": 4,
     "metadata": {},
     "output_type": "execute_result"
    }
   ],
   "source": [
    "data[\"Base: Currency in Circulation ($ Mil)\"] = data[\"Base: Currency in Circulation ($ Bil)\"].mul(1000)\n",
    "data[\"Base: Currency in Circulation ($ Mil)\"]"
   ]
  },
  {
   "cell_type": "code",
   "execution_count": 5,
   "id": "ffc355e6",
   "metadata": {},
   "outputs": [
    {
     "data": {
      "text/plain": [
       "DATE\n",
       "2002-12-31         NaN\n",
       "2003-01-31         NaN\n",
       "2003-02-28         NaN\n",
       "2003-03-31         NaN\n",
       "2003-04-30         NaN\n",
       "                ...   \n",
       "2021-10-31    7.952279\n",
       "2021-11-30    7.588562\n",
       "2021-12-31    7.409584\n",
       "2022-01-31    6.694934\n",
       "2022-02-28    6.200318\n",
       "Freq: M, Name: Currency in Circulation Growth Rate (%), Length: 231, dtype: float64"
      ]
     },
     "execution_count": 5,
     "metadata": {},
     "output_type": "execute_result"
    }
   ],
   "source": [
    "data[\"Currency in Circulation Growth Rate (%)\"] = data[\"Base: Currency in Circulation ($ Mil)\"].pct_change(year) * 100\n",
    "data[\"Currency in Circulation Growth Rate (%)\"]"
   ]
  },
  {
   "cell_type": "code",
   "execution_count": 6,
   "id": "2995efd3",
   "metadata": {},
   "outputs": [],
   "source": [
    "data[\"Currency in Circulation Growth Rate Diff (%)\"] =  data[\"Currency in Circulation Growth Rate (%)\"].diff(year)\n",
    "data[\"Currency in Circulation Growth Rate Diff-in-Diff (%)\"] =  data[\"Currency in Circulation Growth Rate Diff (%)\"].diff(year)"
   ]
  },
  {
   "cell_type": "code",
   "execution_count": 7,
   "id": "1a5334c2",
   "metadata": {},
   "outputs": [
    {
     "data": {
      "text/plain": [
       "DATE\n",
       "2002-12-31          NaN\n",
       "2003-01-31          NaN\n",
       "2003-02-28          NaN\n",
       "2003-03-31          NaN\n",
       "2003-04-30          NaN\n",
       "                ...    \n",
       "2021-10-31    -7.346889\n",
       "2021-11-30    -7.534204\n",
       "2021-12-31    -7.987665\n",
       "2022-01-31    -9.678199\n",
       "2022-02-28   -10.739284\n",
       "Freq: M, Name: Currency in Circulation Growth Rate Diff (%), Length: 231, dtype: float64"
      ]
     },
     "execution_count": 7,
     "metadata": {},
     "output_type": "execute_result"
    }
   ],
   "source": [
    "data[\"Currency in Circulation Growth Rate Diff (%)\"]"
   ]
  },
  {
   "cell_type": "code",
   "execution_count": 8,
   "id": "b3312734",
   "metadata": {},
   "outputs": [
    {
     "data": {
      "text/plain": [
       "DATE\n",
       "2002-12-31          NaN\n",
       "2003-01-31          NaN\n",
       "2003-02-28          NaN\n",
       "2003-03-31          NaN\n",
       "2003-04-30          NaN\n",
       "                ...    \n",
       "2021-10-31   -17.950979\n",
       "2021-11-30   -17.720519\n",
       "2021-12-31   -18.266402\n",
       "2022-01-31   -20.830693\n",
       "2022-02-28   -22.514329\n",
       "Freq: M, Name: Currency in Circulation Growth Rate Diff-in-Diff (%), Length: 231, dtype: float64"
      ]
     },
     "execution_count": 8,
     "metadata": {},
     "output_type": "execute_result"
    }
   ],
   "source": [
    "data[\"Currency in Circulation Growth Rate Diff-in-Diff (%)\"]"
   ]
  },
  {
   "cell_type": "code",
   "execution_count": 9,
   "id": "b5339f4a",
   "metadata": {},
   "outputs": [
    {
     "data": {
      "text/plain": [
       "DATE\n",
       "2002-12-31    1.769002\n",
       "2003-01-31    1.780060\n",
       "2003-02-28    1.727237\n",
       "2003-03-31    1.768547\n",
       "2003-04-30    1.597828\n",
       "                ...   \n",
       "2021-10-31    4.156409\n",
       "2021-11-30    4.659435\n",
       "2021-12-31    4.850036\n",
       "2022-01-31         NaN\n",
       "2022-02-28         NaN\n",
       "Freq: M, Name: Inflation (PCE), Length: 231, dtype: float64"
      ]
     },
     "execution_count": 9,
     "metadata": {},
     "output_type": "execute_result"
    }
   ],
   "source": [
    "data[\"Inflation (CPI)\"] =  web.DataReader(\"CPIAUCSL\", \"fred\", start, end).resample(freq).mean().pct_change(year).mul(100)\n",
    "data[\"Inflation (PCE)\"] = web.DataReader(\"PCEPILFE\", \"fred\", start, end).resample(freq).mean().pct_change(year).mul(100)\n",
    "data[\"Inflation (CPI)\"]\n",
    "data[\"Inflation (PCE)\"]"
   ]
  },
  {
   "cell_type": "code",
   "execution_count": 10,
   "id": "b5f46a9c",
   "metadata": {},
   "outputs": [
    {
     "data": {
      "text/plain": [
       "DATE\n",
       "2002-12-31    2.480271\n",
       "2003-01-31    2.757456\n",
       "2003-02-28    3.146067\n",
       "2003-03-31    3.025210\n",
       "2003-04-30    2.175125\n",
       "                ...   \n",
       "2021-10-31    6.236941\n",
       "2021-11-30    6.828372\n",
       "2021-12-31    7.096542\n",
       "2022-01-31    7.525934\n",
       "2022-02-28         NaN\n",
       "Freq: M, Name: Inflation (CPI), Length: 231, dtype: float64"
      ]
     },
     "execution_count": 10,
     "metadata": {},
     "output_type": "execute_result"
    }
   ],
   "source": [
    "data[\"Inflation (CPI)\"]"
   ]
  },
  {
   "cell_type": "code",
   "execution_count": 11,
   "id": "5d0b286b",
   "metadata": {},
   "outputs": [
    {
     "data": {
      "text/plain": [
       "DATE\n",
       "2002-12-31    NaN\n",
       "2003-01-31    NaN\n",
       "2003-02-28    NaN\n",
       "2003-03-31    NaN\n",
       "2003-04-30    NaN\n",
       "             ... \n",
       "2021-10-31   -5.6\n",
       "2021-11-30   -5.6\n",
       "2021-12-31   -5.9\n",
       "2022-01-31   -5.3\n",
       "2022-02-28   -8.9\n",
       "Freq: M, Name: Unemployment Rate Diff-in-Diff, Length: 231, dtype: float64"
      ]
     },
     "execution_count": 11,
     "metadata": {},
     "output_type": "execute_result"
    }
   ],
   "source": [
    "data[\"Unemployment Rate Diff\"] = data[\"Unemployment Rate\"].diff(year)\n",
    "data[\"Unemployment Rate Diff-in-Diff\"] = data[\"Unemployment Rate Diff\"].diff(year)\n",
    "data[\"Unemployment Rate Diff\"] \n",
    "data[\"Unemployment Rate Diff-in-Diff\"]"
   ]
  },
  {
   "cell_type": "code",
   "execution_count": 12,
   "id": "b793c707",
   "metadata": {},
   "outputs": [
    {
     "data": {
      "text/plain": [
       "DATE\n",
       "2002-12-31    NaN\n",
       "2003-01-31    NaN\n",
       "2003-02-28    NaN\n",
       "2003-03-31    NaN\n",
       "2003-04-30    NaN\n",
       "             ... \n",
       "2021-10-31   -2.3\n",
       "2021-11-30   -2.5\n",
       "2021-12-31   -2.8\n",
       "2022-01-31   -2.4\n",
       "2022-02-28   -6.2\n",
       "Freq: M, Name: Unemployment Rate Diff, Length: 231, dtype: float64"
      ]
     },
     "execution_count": 12,
     "metadata": {},
     "output_type": "execute_result"
    }
   ],
   "source": [
    "data[\"Unemployment Rate Diff\"]"
   ]
  },
  {
   "cell_type": "code",
   "execution_count": 13,
   "id": "32af527f",
   "metadata": {},
   "outputs": [],
   "source": [
    "data[\"Inflation Loss\"]= data[\"Inflation (PCE)\"].sub(inflation_target)\n",
    "data[\"Unemployment Loss\"]= data[\"Unemployment Rate\"].sub(unemployment_target)\n",
    "data[\"Inflation Loss Sq\"]= data[\"Inflation (PCE)\"].sub(inflation_target).pow(2)\n",
    "data[\"Inflation Loss Sq\"][data[\"Inflation Loss\"] < 0] = data[\"Inflation Loss Sq\"].mul(-1)\n",
    "\n",
    "data[\"Unemployment Loss Sq\"]= data[\"Unemployment Rate\"].sub(unemployment_target).pow(2)\n",
    "data[\"Unemployment Loss Sq\"][data[\"Unemployment Loss\"] < 0] = data[\"Unemployment Loss Sq\"].mul(-1)\n",
    "\n",
    "\n",
    "\n",
    "data[\"Inflation Loss Diff\"]= data[\"Inflation Loss\"].diff(year)\n",
    "data[\"Unemployment Loss Diff\"]= data[\"Unemployment Loss\"].diff(year)\n",
    "data[\"Inflation Loss Sq Diff\"]= data[\"Inflation Loss Sq\"].diff(year)\n",
    "data[\"Unemployment Loss Sq Diff\"]= data[\"Unemployment Loss Sq\"].diff(year)\n",
    "\n",
    "data[\"Inflation Loss Diff-in-Diff\"]= data[\"Inflation Loss Diff\"].diff(year)\n",
    "data[\"Unemployment Loss Diff-in-Diff\"]= data[\"Unemployment Loss Diff\"].diff(year)\n",
    "data[\"Inflation Loss Sq Diff-in-Diff\"]= data[\"Inflation Loss Sq Diff\"].diff(year)\n",
    "data[\"Unemployment Loss Sq Diff-in-Diff\"]= data[\"Unemployment Loss Sq Diff\"].diff(year)\n",
    "\n",
    "\n",
    "data[\"Linear Loss\"] = data[\"Inflation Loss\"].sub(data[\"Unemployment Loss\"])\n",
    "data[\"Loss Function\"] = data[\"Inflation Loss Sq\"].sub(data[\"Unemployment Loss Sq\"])\n",
    "data[\"Linear Loss Diff\"] = data[\"Linear Loss\"].diff(year)\n",
    "data[\"Loss Function Diff\"] = data[\"Loss Function\"].diff(year)\n",
    "data[\"Linear Loss Diff-in-Diff\"] = data[\"Linear Loss Diff\"].diff(year)\n",
    "data[\"Loss Function Diff-in-Diff\"] = data[\"Loss Function Diff\"].diff(year)"
   ]
  },
  {
   "cell_type": "code",
   "execution_count": 14,
   "id": "ecc708bc",
   "metadata": {},
   "outputs": [
    {
     "data": {
      "text/plain": [
       "DATE\n",
       "2002-12-31   -0.230998\n",
       "2003-01-31   -0.219940\n",
       "2003-02-28   -0.272763\n",
       "2003-03-31   -0.231453\n",
       "2003-04-30   -0.402172\n",
       "                ...   \n",
       "2021-10-31    2.156409\n",
       "2021-11-30    2.659435\n",
       "2021-12-31    2.850036\n",
       "2022-01-31         NaN\n",
       "2022-02-28         NaN\n",
       "Freq: M, Name: Inflation Loss, Length: 231, dtype: float64"
      ]
     },
     "execution_count": 14,
     "metadata": {},
     "output_type": "execute_result"
    }
   ],
   "source": [
    "data[\"Inflation Loss\"]"
   ]
  },
  {
   "cell_type": "code",
   "execution_count": 15,
   "id": "f42fa88c",
   "metadata": {},
   "outputs": [
    {
     "data": {
      "text/plain": [
       "DATE\n",
       "2002-12-31    2.0\n",
       "2003-01-31    1.8\n",
       "2003-02-28    1.9\n",
       "2003-03-31    1.9\n",
       "2003-04-30    2.0\n",
       "             ... \n",
       "2021-10-31    0.6\n",
       "2021-11-30    0.2\n",
       "2021-12-31   -0.1\n",
       "2022-01-31    0.0\n",
       "2022-02-28   -4.0\n",
       "Freq: M, Name: Unemployment Loss, Length: 231, dtype: float64"
      ]
     },
     "execution_count": 15,
     "metadata": {},
     "output_type": "execute_result"
    }
   ],
   "source": [
    "data[\"Unemployment Loss\"]"
   ]
  },
  {
   "cell_type": "code",
   "execution_count": 16,
   "id": "44a0a1c0",
   "metadata": {},
   "outputs": [
    {
     "data": {
      "text/plain": [
       "DATE\n",
       "2002-12-31   -0.053360\n",
       "2003-01-31   -0.048373\n",
       "2003-02-28   -0.074400\n",
       "2003-03-31   -0.053571\n",
       "2003-04-30   -0.161742\n",
       "                ...   \n",
       "2021-10-31    4.650098\n",
       "2021-11-30    7.072597\n",
       "2021-12-31    8.122704\n",
       "2022-01-31         NaN\n",
       "2022-02-28         NaN\n",
       "Freq: M, Name: Inflation Loss Sq, Length: 231, dtype: float64"
      ]
     },
     "execution_count": 16,
     "metadata": {},
     "output_type": "execute_result"
    }
   ],
   "source": [
    "data[\"Inflation Loss Sq\"]"
   ]
  },
  {
   "cell_type": "code",
   "execution_count": 17,
   "id": "4d035d71",
   "metadata": {},
   "outputs": [
    {
     "data": {
      "text/plain": [
       "DATE\n",
       "2002-12-31   -0.053360\n",
       "2003-01-31   -0.048373\n",
       "2003-02-28   -0.074400\n",
       "2003-03-31   -0.053571\n",
       "2003-04-30   -0.161742\n",
       "                ...   \n",
       "2020-11-30   -0.379513\n",
       "2020-12-31   -0.270211\n",
       "2021-01-31   -0.240884\n",
       "2021-02-28   -0.262722\n",
       "2021-03-31   -0.000703\n",
       "Name: Inflation Loss Sq, Length: 160, dtype: float64"
      ]
     },
     "execution_count": 17,
     "metadata": {},
     "output_type": "execute_result"
    }
   ],
   "source": [
    "data[\"Inflation Loss Sq\"][data[\"Inflation Loss\"] < 0] "
   ]
  },
  {
   "cell_type": "code",
   "execution_count": 18,
   "id": "123c0d75",
   "metadata": {},
   "outputs": [
    {
     "data": {
      "text/plain": [
       "DATE\n",
       "2002-12-31     4.00\n",
       "2003-01-31     3.24\n",
       "2003-02-28     3.61\n",
       "2003-03-31     3.61\n",
       "2003-04-30     4.00\n",
       "              ...  \n",
       "2021-10-31     0.36\n",
       "2021-11-30     0.04\n",
       "2021-12-31    -0.01\n",
       "2022-01-31     0.00\n",
       "2022-02-28   -16.00\n",
       "Freq: M, Name: Unemployment Loss Sq, Length: 231, dtype: float64"
      ]
     },
     "execution_count": 18,
     "metadata": {},
     "output_type": "execute_result"
    }
   ],
   "source": [
    "data[\"Unemployment Loss Sq\"]"
   ]
  },
  {
   "cell_type": "code",
   "execution_count": 19,
   "id": "83bcbc54",
   "metadata": {},
   "outputs": [
    {
     "data": {
      "text/plain": [
       "DATE\n",
       "2018-05-31    -0.04\n",
       "2018-07-31    -0.04\n",
       "2018-08-31    -0.04\n",
       "2018-09-30    -0.09\n",
       "2018-10-31    -0.04\n",
       "2018-11-30    -0.04\n",
       "2018-12-31    -0.01\n",
       "2019-02-28    -0.04\n",
       "2019-03-31    -0.04\n",
       "2019-04-30    -0.16\n",
       "2019-05-31    -0.16\n",
       "2019-06-30    -0.16\n",
       "2019-07-31    -0.09\n",
       "2019-08-31    -0.09\n",
       "2019-09-30    -0.25\n",
       "2019-10-31    -0.16\n",
       "2019-11-30    -0.16\n",
       "2019-12-31    -0.16\n",
       "2020-01-31    -0.25\n",
       "2020-02-29    -0.25\n",
       "2021-12-31    -0.01\n",
       "2022-02-28   -16.00\n",
       "Name: Unemployment Loss Sq, dtype: float64"
      ]
     },
     "execution_count": 19,
     "metadata": {},
     "output_type": "execute_result"
    }
   ],
   "source": [
    "data[\"Unemployment Loss Sq\"][data[\"Unemployment Loss\"] < 0]"
   ]
  },
  {
   "cell_type": "code",
   "execution_count": null,
   "id": "9a893b0a",
   "metadata": {},
   "outputs": [],
   "source": []
  }
 ],
 "metadata": {
  "kernelspec": {
   "display_name": "Python 3 (ipykernel)",
   "language": "python",
   "name": "python3"
  },
  "language_info": {
   "codemirror_mode": {
    "name": "ipython",
    "version": 3
   },
   "file_extension": ".py",
   "mimetype": "text/x-python",
   "name": "python",
   "nbconvert_exporter": "python",
   "pygments_lexer": "ipython3",
   "version": "3.8.12"
  }
 },
 "nbformat": 4,
 "nbformat_minor": 5
}
