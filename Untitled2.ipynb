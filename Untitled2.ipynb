{
 "cells": [
  {
   "cell_type": "code",
   "execution_count": 1,
   "id": "9c172b9a",
   "metadata": {},
   "outputs": [
    {
     "name": "stdout",
     "output_type": "stream",
     "text": [
      "Collecting pyarrow\n",
      "  Downloading pyarrow-7.0.0-cp38-cp38-win_amd64.whl (16.1 MB)\n",
      "Requirement already satisfied: numpy>=1.16.6 in c:\\users\\proma.gupta\\anaconda3\\lib\\site-packages (from pyarrow) (1.20.3)\n",
      "Installing collected packages: pyarrow\n",
      "Successfully installed pyarrow-7.0.0\n"
     ]
    }
   ],
   "source": [
    "!pip install pyarrow"
   ]
  },
  {
   "cell_type": "code",
   "execution_count": 2,
   "id": "03e5e792",
   "metadata": {},
   "outputs": [
    {
     "name": "stdout",
     "output_type": "stream",
     "text": [
      "Collecting fastparquet\n",
      "  Downloading fastparquet-0.8.0-cp38-cp38-win_amd64.whl (664 kB)\n",
      "Requirement already satisfied: fsspec in c:\\users\\proma.gupta\\anaconda3\\lib\\site-packages (from fastparquet) (2021.10.1)\n",
      "Requirement already satisfied: pandas>=1.1.0 in c:\\users\\proma.gupta\\anaconda3\\lib\\site-packages (from fastparquet) (1.3.4)\n",
      "Requirement already satisfied: numpy>=1.18 in c:\\users\\proma.gupta\\anaconda3\\lib\\site-packages (from fastparquet) (1.20.3)\n",
      "Collecting cramjam>=2.3.0\n",
      "  Downloading cramjam-2.5.0-cp38-none-win_amd64.whl (993 kB)\n",
      "Requirement already satisfied: python-dateutil>=2.7.3 in c:\\users\\proma.gupta\\anaconda3\\lib\\site-packages (from pandas>=1.1.0->fastparquet) (2.8.2)\n",
      "Requirement already satisfied: pytz>=2017.3 in c:\\users\\proma.gupta\\anaconda3\\lib\\site-packages (from pandas>=1.1.0->fastparquet) (2021.3)\n",
      "Requirement already satisfied: six>=1.5 in c:\\users\\proma.gupta\\anaconda3\\lib\\site-packages (from python-dateutil>=2.7.3->pandas>=1.1.0->fastparquet) (1.16.0)\n",
      "Installing collected packages: cramjam, fastparquet\n",
      "Successfully installed cramjam-2.5.0 fastparquet-0.8.0\n"
     ]
    }
   ],
   "source": [
    "!pip install fastparquet"
   ]
  },
  {
   "cell_type": "code",
   "execution_count": 3,
   "id": "d688372c",
   "metadata": {},
   "outputs": [
    {
     "name": "stdout",
     "output_type": "stream",
     "text": [
      "Collecting linearmodels\n",
      "  Downloading linearmodels-4.25-cp38-cp38-win_amd64.whl (1.6 MB)\n",
      "Requirement already satisfied: statsmodels>=0.11 in c:\\users\\proma.gupta\\anaconda3\\lib\\site-packages (from linearmodels) (0.12.2)\n",
      "Collecting formulaic\n",
      "  Downloading formulaic-0.2.4-py3-none-any.whl (55 kB)\n",
      "Requirement already satisfied: mypy-extensions>=0.4 in c:\\users\\proma.gupta\\anaconda3\\lib\\site-packages (from linearmodels) (0.4.3)\n",
      "Requirement already satisfied: pandas>=0.24 in c:\\users\\proma.gupta\\anaconda3\\lib\\site-packages (from linearmodels) (1.3.4)\n",
      "Collecting property-cached>=1.6.3\n",
      "  Downloading property_cached-1.6.4-py2.py3-none-any.whl (7.8 kB)\n",
      "Requirement already satisfied: scipy>=1.2 in c:\\users\\proma.gupta\\anaconda3\\lib\\site-packages (from linearmodels) (1.7.3)\n",
      "Requirement already satisfied: patsy in c:\\users\\proma.gupta\\anaconda3\\lib\\site-packages (from linearmodels) (0.5.2)\n",
      "Requirement already satisfied: Cython>=0.29.21 in c:\\users\\proma.gupta\\anaconda3\\lib\\site-packages (from linearmodels) (0.29.24)\n",
      "Requirement already satisfied: numpy>=1.16 in c:\\users\\proma.gupta\\anaconda3\\lib\\site-packages (from linearmodels) (1.20.3)\n",
      "Collecting pyhdfe>=0.1\n",
      "  Downloading pyhdfe-0.1.0-py3-none-any.whl (18 kB)\n",
      "Requirement already satisfied: python-dateutil>=2.7.3 in c:\\users\\proma.gupta\\anaconda3\\lib\\site-packages (from pandas>=0.24->linearmodels) (2.8.2)\n",
      "Requirement already satisfied: pytz>=2017.3 in c:\\users\\proma.gupta\\anaconda3\\lib\\site-packages (from pandas>=0.24->linearmodels) (2021.3)\n",
      "Requirement already satisfied: six>=1.5 in c:\\users\\proma.gupta\\anaconda3\\lib\\site-packages (from python-dateutil>=2.7.3->pandas>=0.24->linearmodels) (1.16.0)\n",
      "Requirement already satisfied: wrapt in c:\\users\\proma.gupta\\anaconda3\\lib\\site-packages (from formulaic->linearmodels) (1.12.1)\n",
      "Collecting astor\n",
      "  Downloading astor-0.8.1-py2.py3-none-any.whl (27 kB)\n",
      "Collecting interface-meta>=1.2\n",
      "  Downloading interface_meta-1.2.4-py2.py3-none-any.whl (14 kB)\n",
      "Installing collected packages: interface-meta, astor, pyhdfe, property-cached, formulaic, linearmodels\n",
      "Successfully installed astor-0.8.1 formulaic-0.2.4 interface-meta-1.2.4 linearmodels-4.25 property-cached-1.6.4 pyhdfe-0.1.0\n"
     ]
    }
   ],
   "source": [
    "!pip install linearmodels"
   ]
  },
  {
   "cell_type": "code",
   "execution_count": null,
   "id": "f64055dc",
   "metadata": {},
   "outputs": [],
   "source": []
  }
 ],
 "metadata": {
  "kernelspec": {
   "display_name": "Python 3 (ipykernel)",
   "language": "python",
   "name": "python3"
  },
  "language_info": {
   "codemirror_mode": {
    "name": "ipython",
    "version": 3
   },
   "file_extension": ".py",
   "mimetype": "text/x-python",
   "name": "python",
   "nbconvert_exporter": "python",
   "pygments_lexer": "ipython3",
   "version": "3.8.12"
  }
 },
 "nbformat": 4,
 "nbformat_minor": 5
}
