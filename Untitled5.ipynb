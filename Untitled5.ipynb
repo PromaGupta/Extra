{
 "cells": [
  {
   "cell_type": "code",
   "execution_count": 1,
   "id": "ac5788cd",
   "metadata": {},
   "outputs": [
    {
     "name": "stderr",
     "output_type": "stream",
     "text": [
      "ERROR: Could not find a version that satisfies the requirement filename\n",
      "ERROR: No matching distribution found for filename\n"
     ]
    }
   ],
   "source": [
    "!pip install filename --user"
   ]
  },
  {
   "cell_type": "code",
   "execution_count": 2,
   "id": "a21194ae",
   "metadata": {},
   "outputs": [
    {
     "name": "stderr",
     "output_type": "stream",
     "text": [
      "ERROR: Could not find a version that satisfies the requirement filename\n",
      "ERROR: No matching distribution found for filename\n"
     ]
    }
   ],
   "source": [
    "!pip install filename"
   ]
  },
  {
   "cell_type": "code",
   "execution_count": 3,
   "id": "e57e9df2",
   "metadata": {},
   "outputs": [
    {
     "name": "stdout",
     "output_type": "stream",
     "text": [
      "Processing c:\\users\\proma.gupta\\desktop\\jupyter_practice\\gdal-3.1.4-cp38-cp38-win_amd64.whl\n",
      "Note: you may need to restart the kernel to use updated packages.\n"
     ]
    },
    {
     "name": "stderr",
     "output_type": "stream",
     "text": [
      "WARNING: Requirement 'GDAL-3.1.4-cp38-cp38-win_amd64.whl' looks like a filename, but the file does not exist\n",
      "ERROR: Could not install packages due to an OSError: [Errno 2] No such file or directory: 'C:\\\\Users\\\\proma.gupta\\\\Desktop\\\\jupyter_practice\\\\GDAL-3.1.4-cp38-cp38-win_amd64.whl'\n",
      "\n"
     ]
    }
   ],
   "source": [
    "pip install GDAL-3.1.4-cp38-cp38-win_amd64.whl"
   ]
  },
  {
   "cell_type": "code",
   "execution_count": null,
   "id": "1c450cbd",
   "metadata": {},
   "outputs": [],
   "source": [
    " !pip install Fiona-1.8.20-cp38-cp38-win_amd64.whl\n",
    "# !pip install Shapely-1.7.1-cp38-cp38-win_amd64.whl\n",
    "# !pip install datadotworld"
   ]
  },
  {
   "cell_type": "code",
   "execution_count": 4,
   "id": "a68e606a",
   "metadata": {},
   "outputs": [
    {
     "name": "stdout",
     "output_type": "stream",
     "text": [
      "Processing c:\\users\\proma.gupta\\desktop\\jupyter_practice\\gdal-3.3.0-cp38-cp38-win_amd64.whl\n"
     ]
    },
    {
     "name": "stderr",
     "output_type": "stream",
     "text": [
      "WARNING: Requirement 'GDAL-3.3.0-cp38-cp38-win_amd64.whl' looks like a filename, but the file does not exist\n",
      "ERROR: Could not install packages due to an OSError: [Errno 2] No such file or directory: 'C:\\\\Users\\\\proma.gupta\\\\Desktop\\\\jupyter_practice\\\\GDAL-3.3.0-cp38-cp38-win_amd64.whl'\n",
      "\n"
     ]
    },
    {
     "name": "stdout",
     "output_type": "stream",
     "text": [
      "Processing c:\\users\\proma.gupta\\desktop\\jupyter_practice\\fiona-1.8.20-cp38-cp38-win_amd64.whl\n"
     ]
    },
    {
     "name": "stderr",
     "output_type": "stream",
     "text": [
      "WARNING: Requirement 'Fiona-1.8.20-cp38-cp38-win_amd64.whl' looks like a filename, but the file does not exist\n",
      "ERROR: Could not install packages due to an OSError: [Errno 2] No such file or directory: 'C:\\\\Users\\\\proma.gupta\\\\Desktop\\\\jupyter_practice\\\\Fiona-1.8.20-cp38-cp38-win_amd64.whl'\n",
      "\n"
     ]
    },
    {
     "name": "stdout",
     "output_type": "stream",
     "text": [
      "Processing c:\\users\\proma.gupta\\desktop\\jupyter_practice\\shapely-1.7.1-cp38-cp38-win_amd64.whl\n"
     ]
    },
    {
     "name": "stderr",
     "output_type": "stream",
     "text": [
      "WARNING: Requirement 'Shapely-1.7.1-cp38-cp38-win_amd64.whl' looks like a filename, but the file does not exist\n",
      "ERROR: Could not install packages due to an OSError: [Errno 2] No such file or directory: 'C:\\\\Users\\\\proma.gupta\\\\Desktop\\\\jupyter_practice\\\\Shapely-1.7.1-cp38-cp38-win_amd64.whl'\n",
      "\n"
     ]
    },
    {
     "name": "stdout",
     "output_type": "stream",
     "text": [
      "Collecting datadotworld\n",
      "  Downloading datadotworld-1.8.0-py2.py3-none-any.whl (423 kB)\n",
      "Collecting tableschema<2.0a,>=1.5.2\n",
      "  Downloading tableschema-1.20.2-py2.py3-none-any.whl (68 kB)\n",
      "Collecting click<7.0a,>=6.0\n",
      "  Downloading click-6.7-py2.py3-none-any.whl (71 kB)\n",
      "Collecting tabulator>=1.22.0\n",
      "  Downloading tabulator-1.53.5-py2.py3-none-any.whl (72 kB)\n",
      "Collecting configparser<4.0a,>=3.5.0\n",
      "  Downloading configparser-3.8.1-py2.py3-none-any.whl (22 kB)\n",
      "Requirement already satisfied: urllib3<2.0a,>=1.15 in c:\\users\\proma.gupta\\anaconda3\\lib\\site-packages (from datadotworld) (1.26.4)\n",
      "Requirement already satisfied: certifi>=2017.04.17 in c:\\users\\proma.gupta\\anaconda3\\lib\\site-packages (from datadotworld) (2020.12.5)\n",
      "Requirement already satisfied: requests<3.0a,>=2.0.0 in c:\\users\\proma.gupta\\anaconda3\\lib\\site-packages (from datadotworld) (2.25.1)\n",
      "Requirement already satisfied: six<2.0a,>=1.5.0 in c:\\users\\proma.gupta\\anaconda3\\lib\\site-packages (from datadotworld) (1.15.0)\n",
      "Collecting datapackage<2.0a,>=1.6.2\n",
      "  Downloading datapackage-1.15.2-py2.py3-none-any.whl (85 kB)\n",
      "Requirement already satisfied: python-dateutil<3.0a,>=2.6.0 in c:\\users\\proma.gupta\\anaconda3\\lib\\site-packages (from datadotworld) (2.8.1)\n",
      "Requirement already satisfied: chardet>=3.0 in c:\\users\\proma.gupta\\anaconda3\\lib\\site-packages (from datapackage<2.0a,>=1.6.2->datadotworld) (4.0.0)\n",
      "Collecting jsonpointer>=1.10\n",
      "  Downloading jsonpointer-2.2-py2.py3-none-any.whl (7.5 kB)\n",
      "Requirement already satisfied: unicodecsv>=0.14 in c:\\users\\proma.gupta\\anaconda3\\lib\\site-packages (from datapackage<2.0a,>=1.6.2->datadotworld) (0.14.1)\n",
      "Requirement already satisfied: jsonschema>=2.5 in c:\\users\\proma.gupta\\anaconda3\\lib\\site-packages (from datapackage<2.0a,>=1.6.2->datadotworld) (3.2.0)\n",
      "Requirement already satisfied: pyrsistent>=0.14.0 in c:\\users\\proma.gupta\\anaconda3\\lib\\site-packages (from jsonschema>=2.5->datapackage<2.0a,>=1.6.2->datadotworld) (0.17.3)\n",
      "Requirement already satisfied: setuptools in c:\\users\\proma.gupta\\anaconda3\\lib\\site-packages (from jsonschema>=2.5->datapackage<2.0a,>=1.6.2->datadotworld) (52.0.0.post20210125)\n",
      "Requirement already satisfied: attrs>=17.4.0 in c:\\users\\proma.gupta\\anaconda3\\lib\\site-packages (from jsonschema>=2.5->datapackage<2.0a,>=1.6.2->datadotworld) (20.3.0)\n",
      "Requirement already satisfied: idna<3,>=2.5 in c:\\users\\proma.gupta\\anaconda3\\lib\\site-packages (from requests<3.0a,>=2.0.0->datadotworld) (2.10)\n",
      "Collecting isodate>=0.5.4\n",
      "  Downloading isodate-0.6.0-py2.py3-none-any.whl (45 kB)\n",
      "Collecting rfc3986>=1.1.0\n",
      "  Downloading rfc3986-1.5.0-py2.py3-none-any.whl (31 kB)\n",
      "Collecting cached-property>=1.5\n",
      "  Downloading cached_property-1.5.2-py2.py3-none-any.whl (7.6 kB)\n",
      "Requirement already satisfied: xlrd>=1.0 in c:\\users\\proma.gupta\\anaconda3\\lib\\site-packages (from tabulator>=1.22.0->datadotworld) (2.0.1)\n",
      "Collecting linear-tsv>=1.0\n",
      "  Downloading linear-tsv-1.1.0.tar.gz (9.6 kB)\n",
      "Requirement already satisfied: openpyxl>=2.6 in c:\\users\\proma.gupta\\anaconda3\\lib\\site-packages (from tabulator>=1.22.0->datadotworld) (3.0.7)\n",
      "Collecting ijson>=3.0.3\n",
      "  Downloading ijson-3.1.4-cp38-cp38-win_amd64.whl (48 kB)\n",
      "Requirement already satisfied: sqlalchemy>=0.9.6 in c:\\users\\proma.gupta\\anaconda3\\lib\\site-packages (from tabulator>=1.22.0->datadotworld) (1.4.7)\n",
      "Collecting jsonlines>=1.1\n",
      "  Downloading jsonlines-2.0.0-py3-none-any.whl (6.3 kB)\n",
      "Collecting boto3>=1.9\n",
      "  Downloading boto3-1.20.11-py3-none-any.whl (131 kB)\n",
      "Collecting botocore<1.24.0,>=1.23.11\n",
      "  Downloading botocore-1.23.11-py3-none-any.whl (8.2 MB)\n",
      "Collecting jmespath<1.0.0,>=0.7.1\n",
      "  Downloading jmespath-0.10.0-py2.py3-none-any.whl (24 kB)\n",
      "Collecting s3transfer<0.6.0,>=0.5.0\n",
      "  Downloading s3transfer-0.5.0-py3-none-any.whl (79 kB)\n",
      "Requirement already satisfied: et-xmlfile in c:\\users\\proma.gupta\\anaconda3\\lib\\site-packages (from openpyxl>=2.6->tabulator>=1.22.0->datadotworld) (1.0.1)\n",
      "Requirement already satisfied: greenlet!=0.4.17 in c:\\users\\proma.gupta\\anaconda3\\lib\\site-packages (from sqlalchemy>=0.9.6->tabulator>=1.22.0->datadotworld) (1.0.0)\n",
      "Building wheels for collected packages: linear-tsv\n",
      "  Building wheel for linear-tsv (setup.py): started\n",
      "  Building wheel for linear-tsv (setup.py): finished with status 'done'\n",
      "  Created wheel for linear-tsv: filename=linear_tsv-1.1.0-py3-none-any.whl size=7382 sha256=5779408d4f7be2d5f6fc646317cba9177865415c408ea51d7ed26486f3e94da6\n",
      "  Stored in directory: c:\\users\\proma.gupta\\appdata\\local\\pip\\cache\\wheels\\31\\25\\a5\\d9b4b59636e1b9f183b7e1022e7be5c51141717b92398d7f9e\n",
      "Successfully built linear-tsv\n",
      "Installing collected packages: jmespath, botocore, s3transfer, linear-tsv, jsonlines, ijson, click, boto3, tabulator, rfc3986, isodate, cached-property, tableschema, jsonpointer, datapackage, configparser, datadotworld\n",
      "  Attempting uninstall: click\n",
      "    Found existing installation: click 7.1.2\n",
      "    Uninstalling click-7.1.2:\n",
      "      Successfully uninstalled click-7.1.2\n",
      "Successfully installed boto3-1.20.11 botocore-1.23.11 cached-property-1.5.2 click-6.7 configparser-3.8.1 datadotworld-1.8.0 datapackage-1.15.2 ijson-3.1.4 isodate-0.6.0 jmespath-0.10.0 jsonlines-2.0.0 jsonpointer-2.2 linear-tsv-1.1.0 rfc3986-1.5.0 s3transfer-0.5.0 tableschema-1.20.2 tabulator-1.53.5\n"
     ]
    }
   ],
   "source": [
    "!pip install GDAL-3.3.0-cp38-cp38-win_amd64.whl\n",
    "!pip install Fiona-1.8.20-cp38-cp38-win_amd64.whl\n",
    "!pip install Shapely-1.7.1-cp38-cp38-win_amd64.whl\n",
    "!pip install datadotworld"
   ]
  },
  {
   "cell_type": "code",
   "execution_count": null,
   "id": "9a920dcb",
   "metadata": {},
   "outputs": [],
   "source": []
  }
 ],
 "metadata": {
  "kernelspec": {
   "display_name": "Python 3 (ipykernel)",
   "language": "python",
   "name": "python3"
  },
  "language_info": {
   "codemirror_mode": {
    "name": "ipython",
    "version": 3
   },
   "file_extension": ".py",
   "mimetype": "text/x-python",
   "name": "python",
   "nbconvert_exporter": "python",
   "pygments_lexer": "ipython3",
   "version": "3.8.12"
  }
 },
 "nbformat": 4,
 "nbformat_minor": 5
}
