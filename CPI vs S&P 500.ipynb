{
 "cells": [
  {
   "cell_type": "code",
   "execution_count": 47,
   "id": "01127ead",
   "metadata": {},
   "outputs": [],
   "source": [
    "%matplotlib inline\n",
    "import matplotlib\n",
    "import matplotlib.pyplot as plt\n",
    "import io, base64, os, json, re\n",
    "import pandas as pd\n",
    "import pandas_datareader.data as web\n",
    "import datetime\n",
    "import numpy as np"
   ]
  },
  {
   "cell_type": "code",
   "execution_count": 6,
   "id": "1d6b8a2d",
   "metadata": {},
   "outputs": [
    {
     "name": "stdout",
     "output_type": "stream",
     "text": [
      "1950-01-03 00:00:00 2019-03-22 00:00:00\n"
     ]
    }
   ],
   "source": [
    "start = datetime.datetime(1950, 1 , 3)\n",
    "end = datetime.datetime(2019, 3, 22)\n",
    "\n",
    "print(start, end)"
   ]
  },
  {
   "cell_type": "code",
   "execution_count": 35,
   "id": "0c543b61",
   "metadata": {},
   "outputs": [
    {
     "data": {
      "text/html": [
       "<div>\n",
       "<style scoped>\n",
       "    .dataframe tbody tr th:only-of-type {\n",
       "        vertical-align: middle;\n",
       "    }\n",
       "\n",
       "    .dataframe tbody tr th {\n",
       "        vertical-align: top;\n",
       "    }\n",
       "\n",
       "    .dataframe thead th {\n",
       "        text-align: right;\n",
       "    }\n",
       "</style>\n",
       "<table border=\"1\" class=\"dataframe\">\n",
       "  <thead>\n",
       "    <tr style=\"text-align: right;\">\n",
       "      <th></th>\n",
       "      <th>Date</th>\n",
       "      <th>Open</th>\n",
       "      <th>High</th>\n",
       "      <th>Low</th>\n",
       "      <th>Close</th>\n",
       "      <th>Adj Close</th>\n",
       "      <th>Volume</th>\n",
       "    </tr>\n",
       "  </thead>\n",
       "  <tbody>\n",
       "    <tr>\n",
       "      <th>0</th>\n",
       "      <td>21-Mar-19</td>\n",
       "      <td>2,819.72</td>\n",
       "      <td>2,860.31</td>\n",
       "      <td>2,817.38</td>\n",
       "      <td>2,854.88</td>\n",
       "      <td>2,854.88</td>\n",
       "      <td>3,546,800,000</td>\n",
       "    </tr>\n",
       "    <tr>\n",
       "      <th>1</th>\n",
       "      <td>20-Mar-19</td>\n",
       "      <td>2,831.34</td>\n",
       "      <td>2,843.54</td>\n",
       "      <td>2,812.43</td>\n",
       "      <td>2,824.23</td>\n",
       "      <td>2,824.23</td>\n",
       "      <td>3,771,200,000</td>\n",
       "    </tr>\n",
       "    <tr>\n",
       "      <th>2</th>\n",
       "      <td>19-Mar-19</td>\n",
       "      <td>2,840.76</td>\n",
       "      <td>2,852.42</td>\n",
       "      <td>2,823.27</td>\n",
       "      <td>2,832.57</td>\n",
       "      <td>2,832.57</td>\n",
       "      <td>3,620,220,000</td>\n",
       "    </tr>\n",
       "    <tr>\n",
       "      <th>3</th>\n",
       "      <td>18-Mar-19</td>\n",
       "      <td>2,822.61</td>\n",
       "      <td>2,835.41</td>\n",
       "      <td>2,821.99</td>\n",
       "      <td>2,832.94</td>\n",
       "      <td>2,832.94</td>\n",
       "      <td>3,552,190,000</td>\n",
       "    </tr>\n",
       "    <tr>\n",
       "      <th>4</th>\n",
       "      <td>15-Mar-19</td>\n",
       "      <td>2,810.79</td>\n",
       "      <td>2,830.73</td>\n",
       "      <td>2,810.79</td>\n",
       "      <td>2,822.48</td>\n",
       "      <td>2,822.48</td>\n",
       "      <td>5,962,730,000</td>\n",
       "    </tr>\n",
       "    <tr>\n",
       "      <th>...</th>\n",
       "      <td>...</td>\n",
       "      <td>...</td>\n",
       "      <td>...</td>\n",
       "      <td>...</td>\n",
       "      <td>...</td>\n",
       "      <td>...</td>\n",
       "      <td>...</td>\n",
       "    </tr>\n",
       "    <tr>\n",
       "      <th>17411</th>\n",
       "      <td>9-Jan-50</td>\n",
       "      <td>17.08</td>\n",
       "      <td>17.08</td>\n",
       "      <td>17.08</td>\n",
       "      <td>17.08</td>\n",
       "      <td>17.08</td>\n",
       "      <td>2,520,000</td>\n",
       "    </tr>\n",
       "    <tr>\n",
       "      <th>17412</th>\n",
       "      <td>6-Jan-50</td>\n",
       "      <td>16.98</td>\n",
       "      <td>16.98</td>\n",
       "      <td>16.98</td>\n",
       "      <td>16.98</td>\n",
       "      <td>16.98</td>\n",
       "      <td>2,010,000</td>\n",
       "    </tr>\n",
       "    <tr>\n",
       "      <th>17413</th>\n",
       "      <td>5-Jan-50</td>\n",
       "      <td>16.93</td>\n",
       "      <td>16.93</td>\n",
       "      <td>16.93</td>\n",
       "      <td>16.93</td>\n",
       "      <td>16.93</td>\n",
       "      <td>2,550,000</td>\n",
       "    </tr>\n",
       "    <tr>\n",
       "      <th>17414</th>\n",
       "      <td>4-Jan-50</td>\n",
       "      <td>16.85</td>\n",
       "      <td>16.85</td>\n",
       "      <td>16.85</td>\n",
       "      <td>16.85</td>\n",
       "      <td>16.85</td>\n",
       "      <td>1,890,000</td>\n",
       "    </tr>\n",
       "    <tr>\n",
       "      <th>17415</th>\n",
       "      <td>3-Jan-50</td>\n",
       "      <td>16.66</td>\n",
       "      <td>16.66</td>\n",
       "      <td>16.66</td>\n",
       "      <td>16.66</td>\n",
       "      <td>16.66</td>\n",
       "      <td>1,260,000</td>\n",
       "    </tr>\n",
       "  </tbody>\n",
       "</table>\n",
       "<p>17416 rows × 7 columns</p>\n",
       "</div>"
      ],
      "text/plain": [
       "            Date      Open      High       Low     Close Adj Close  \\\n",
       "0      21-Mar-19  2,819.72  2,860.31  2,817.38  2,854.88  2,854.88   \n",
       "1      20-Mar-19  2,831.34  2,843.54  2,812.43  2,824.23  2,824.23   \n",
       "2      19-Mar-19  2,840.76  2,852.42  2,823.27  2,832.57  2,832.57   \n",
       "3      18-Mar-19  2,822.61  2,835.41  2,821.99  2,832.94  2,832.94   \n",
       "4      15-Mar-19  2,810.79  2,830.73  2,810.79  2,822.48  2,822.48   \n",
       "...          ...       ...       ...       ...       ...       ...   \n",
       "17411   9-Jan-50     17.08     17.08     17.08     17.08     17.08   \n",
       "17412   6-Jan-50     16.98     16.98     16.98     16.98     16.98   \n",
       "17413   5-Jan-50     16.93     16.93     16.93     16.93     16.93   \n",
       "17414   4-Jan-50     16.85     16.85     16.85     16.85     16.85   \n",
       "17415   3-Jan-50     16.66     16.66     16.66     16.66     16.66   \n",
       "\n",
       "              Volume  \n",
       "0      3,546,800,000  \n",
       "1      3,771,200,000  \n",
       "2      3,620,220,000  \n",
       "3      3,552,190,000  \n",
       "4      5,962,730,000  \n",
       "...              ...  \n",
       "17411      2,520,000  \n",
       "17412      2,010,000  \n",
       "17413      2,550,000  \n",
       "17414      1,890,000  \n",
       "17415      1,260,000  \n",
       "\n",
       "[17416 rows x 7 columns]"
      ]
     },
     "execution_count": 35,
     "metadata": {},
     "output_type": "execute_result"
    }
   ],
   "source": [
    "gspc_df = pd.read_csv('yahp.csv')\n",
    "gspc_df"
   ]
  },
  {
   "cell_type": "code",
   "execution_count": 10,
   "id": "6f7bc0e4",
   "metadata": {},
   "outputs": [],
   "source": [
    "gspc_df['Date'] = pd.to_datetime(gspc_df['Date'])"
   ]
  },
  {
   "cell_type": "code",
   "execution_count": 36,
   "id": "bcc58d6e",
   "metadata": {},
   "outputs": [
    {
     "data": {
      "text/html": [
       "<div>\n",
       "<style scoped>\n",
       "    .dataframe tbody tr th:only-of-type {\n",
       "        vertical-align: middle;\n",
       "    }\n",
       "\n",
       "    .dataframe tbody tr th {\n",
       "        vertical-align: top;\n",
       "    }\n",
       "\n",
       "    .dataframe thead th {\n",
       "        text-align: right;\n",
       "    }\n",
       "</style>\n",
       "<table border=\"1\" class=\"dataframe\">\n",
       "  <thead>\n",
       "    <tr style=\"text-align: right;\">\n",
       "      <th></th>\n",
       "      <th>Date</th>\n",
       "      <th>Open</th>\n",
       "      <th>High</th>\n",
       "      <th>Low</th>\n",
       "      <th>Close</th>\n",
       "      <th>Adj Close</th>\n",
       "      <th>Volume</th>\n",
       "    </tr>\n",
       "  </thead>\n",
       "  <tbody>\n",
       "    <tr>\n",
       "      <th>0</th>\n",
       "      <td>21-Mar-19</td>\n",
       "      <td>2,819.72</td>\n",
       "      <td>2,860.31</td>\n",
       "      <td>2,817.38</td>\n",
       "      <td>2,854.88</td>\n",
       "      <td>2,854.88</td>\n",
       "      <td>3,546,800,000</td>\n",
       "    </tr>\n",
       "    <tr>\n",
       "      <th>1</th>\n",
       "      <td>20-Mar-19</td>\n",
       "      <td>2,831.34</td>\n",
       "      <td>2,843.54</td>\n",
       "      <td>2,812.43</td>\n",
       "      <td>2,824.23</td>\n",
       "      <td>2,824.23</td>\n",
       "      <td>3,771,200,000</td>\n",
       "    </tr>\n",
       "    <tr>\n",
       "      <th>2</th>\n",
       "      <td>19-Mar-19</td>\n",
       "      <td>2,840.76</td>\n",
       "      <td>2,852.42</td>\n",
       "      <td>2,823.27</td>\n",
       "      <td>2,832.57</td>\n",
       "      <td>2,832.57</td>\n",
       "      <td>3,620,220,000</td>\n",
       "    </tr>\n",
       "    <tr>\n",
       "      <th>3</th>\n",
       "      <td>18-Mar-19</td>\n",
       "      <td>2,822.61</td>\n",
       "      <td>2,835.41</td>\n",
       "      <td>2,821.99</td>\n",
       "      <td>2,832.94</td>\n",
       "      <td>2,832.94</td>\n",
       "      <td>3,552,190,000</td>\n",
       "    </tr>\n",
       "    <tr>\n",
       "      <th>4</th>\n",
       "      <td>15-Mar-19</td>\n",
       "      <td>2,810.79</td>\n",
       "      <td>2,830.73</td>\n",
       "      <td>2,810.79</td>\n",
       "      <td>2,822.48</td>\n",
       "      <td>2,822.48</td>\n",
       "      <td>5,962,730,000</td>\n",
       "    </tr>\n",
       "  </tbody>\n",
       "</table>\n",
       "</div>"
      ],
      "text/plain": [
       "        Date      Open      High       Low     Close Adj Close         Volume\n",
       "0  21-Mar-19  2,819.72  2,860.31  2,817.38  2,854.88  2,854.88  3,546,800,000\n",
       "1  20-Mar-19  2,831.34  2,843.54  2,812.43  2,824.23  2,824.23  3,771,200,000\n",
       "2  19-Mar-19  2,840.76  2,852.42  2,823.27  2,832.57  2,832.57  3,620,220,000\n",
       "3  18-Mar-19  2,822.61  2,835.41  2,821.99  2,832.94  2,832.94  3,552,190,000\n",
       "4  15-Mar-19  2,810.79  2,830.73  2,810.79  2,822.48  2,822.48  5,962,730,000"
      ]
     },
     "execution_count": 36,
     "metadata": {},
     "output_type": "execute_result"
    }
   ],
   "source": [
    "gspc_df.head()"
   ]
  },
  {
   "cell_type": "code",
   "execution_count": 13,
   "id": "5b4d38bc",
   "metadata": {},
   "outputs": [
    {
     "data": {
      "text/html": [
       "<div>\n",
       "<style scoped>\n",
       "    .dataframe tbody tr th:only-of-type {\n",
       "        vertical-align: middle;\n",
       "    }\n",
       "\n",
       "    .dataframe tbody tr th {\n",
       "        vertical-align: top;\n",
       "    }\n",
       "\n",
       "    .dataframe thead th {\n",
       "        text-align: right;\n",
       "    }\n",
       "</style>\n",
       "<table border=\"1\" class=\"dataframe\">\n",
       "  <thead>\n",
       "    <tr style=\"text-align: right;\">\n",
       "      <th></th>\n",
       "      <th>Date</th>\n",
       "      <th>CPI</th>\n",
       "    </tr>\n",
       "  </thead>\n",
       "  <tbody>\n",
       "    <tr>\n",
       "      <th>0</th>\n",
       "      <td>1/1/1913</td>\n",
       "      <td>9.800</td>\n",
       "    </tr>\n",
       "    <tr>\n",
       "      <th>1</th>\n",
       "      <td>2/1/1913</td>\n",
       "      <td>9.800</td>\n",
       "    </tr>\n",
       "    <tr>\n",
       "      <th>2</th>\n",
       "      <td>3/1/1913</td>\n",
       "      <td>9.800</td>\n",
       "    </tr>\n",
       "    <tr>\n",
       "      <th>3</th>\n",
       "      <td>4/1/1913</td>\n",
       "      <td>9.800</td>\n",
       "    </tr>\n",
       "    <tr>\n",
       "      <th>4</th>\n",
       "      <td>5/1/1913</td>\n",
       "      <td>9.700</td>\n",
       "    </tr>\n",
       "    <tr>\n",
       "      <th>...</th>\n",
       "      <td>...</td>\n",
       "      <td>...</td>\n",
       "    </tr>\n",
       "    <tr>\n",
       "      <th>1269</th>\n",
       "      <td>10/1/2018</td>\n",
       "      <td>252.885</td>\n",
       "    </tr>\n",
       "    <tr>\n",
       "      <th>1270</th>\n",
       "      <td>11/1/2018</td>\n",
       "      <td>252.038</td>\n",
       "    </tr>\n",
       "    <tr>\n",
       "      <th>1271</th>\n",
       "      <td>12/1/2018</td>\n",
       "      <td>251.233</td>\n",
       "    </tr>\n",
       "    <tr>\n",
       "      <th>1272</th>\n",
       "      <td>1/1/2019</td>\n",
       "      <td>251.712</td>\n",
       "    </tr>\n",
       "    <tr>\n",
       "      <th>1273</th>\n",
       "      <td>2/1/2019</td>\n",
       "      <td>252.776</td>\n",
       "    </tr>\n",
       "  </tbody>\n",
       "</table>\n",
       "<p>1274 rows × 2 columns</p>\n",
       "</div>"
      ],
      "text/plain": [
       "           Date      CPI\n",
       "0      1/1/1913    9.800\n",
       "1      2/1/1913    9.800\n",
       "2      3/1/1913    9.800\n",
       "3      4/1/1913    9.800\n",
       "4      5/1/1913    9.700\n",
       "...         ...      ...\n",
       "1269  10/1/2018  252.885\n",
       "1270  11/1/2018  252.038\n",
       "1271  12/1/2018  251.233\n",
       "1272   1/1/2019  251.712\n",
       "1273   2/1/2019  252.776\n",
       "\n",
       "[1274 rows x 2 columns]"
      ]
     },
     "execution_count": 13,
     "metadata": {},
     "output_type": "execute_result"
    }
   ],
   "source": [
    "cpi_df = pd.read_csv('CPIAUCNS.csv')\n",
    "cpi_df.columns = ['Date', 'CPI']\n",
    "\n",
    "cpi_df"
   ]
  },
  {
   "cell_type": "code",
   "execution_count": 14,
   "id": "31f125b0",
   "metadata": {},
   "outputs": [
    {
     "name": "stdout",
     "output_type": "stream",
     "text": [
      "gspc_df.shape(): (17416, 7)\n",
      "cpi_df.shape(): (1274, 2)\n"
     ]
    }
   ],
   "source": [
    "print ('gspc_df.shape():', gspc_df.shape)\n",
    "print ('cpi_df.shape():', cpi_df.shape)\n"
   ]
  },
  {
   "cell_type": "code",
   "execution_count": 16,
   "id": "b5b8b9cd",
   "metadata": {},
   "outputs": [
    {
     "data": {
      "image/png": "[encoded data removed]",
      "text/plain": [
       "<Figure size 432x288 with 1 Axes>"
      ]
     },
     "metadata": {
      "needs_background": "light"
     },
     "output_type": "display_data"
    }
   ],
   "source": [
    "plt.plot(cpi_df['Date'], cpi_df['CPI'])\n",
    "plt.grid()\n",
    "plt.show()"
   ]
  },
  {
   "cell_type": "code",
   "execution_count": 25,
   "id": "49cc7efc",
   "metadata": {},
   "outputs": [
    {
     "name": "stderr",
     "output_type": "stream",
     "text": [
      "<ipython-input-25-3d921cbd2ae3>:7: UserWarning: FixedFormatter should only be used together with FixedLocator\n",
      "  ax.set_xticklabels([str(int(x))+ \"%\" for x in x_vals])\n"
     ]
    },
    {
     "data": {
      "image/png": "[encoded data removed]",
      "text/plain": [
       "<Figure size 1152x576 with 1 Axes>"
      ]
     },
     "metadata": {
      "needs_background": "light"
     },
     "output_type": "display_data"
    }
   ],
   "source": [
    "# CPI Percentage Change\n",
    "\n",
    "fig, ax = plt.subplots(figsize = (16,8))\n",
    "cpi_df['CPI_pct_change'] = cpi_df['CPI'].pct_change().copy()\n",
    "plt.plot(cpi_df['Date'], cpi_df['CPI_pct_change'], c = 'green')\n",
    "x_vals = ax.get_xticks()\n",
    "ax.set_xticklabels([str(int(x))+ \"%\" for x in x_vals])    \n",
    "plt.grid()\n",
    "plt.axhline(0)\n",
    "plt.show()\n",
    "\n",
    "#how can i get the year?"
   ]
  },
  {
   "cell_type": "code",
   "execution_count": 26,
   "id": "fcb8790e",
   "metadata": {},
   "outputs": [
    {
     "data": {
      "text/plain": [
       "count    1274.000000\n",
       "mean       78.601381\n",
       "std        76.635686\n",
       "min         9.700000\n",
       "25%        17.400000\n",
       "50%        31.900000\n",
       "75%       140.800000\n",
       "max       252.885000\n",
       "Name: CPI, dtype: float64"
      ]
     },
     "execution_count": 26,
     "metadata": {},
     "output_type": "execute_result"
    }
   ],
   "source": [
    "#stats\n",
    "\n",
    "cpi_df['CPI'].describe()"
   ]
  },
  {
   "cell_type": "markdown",
   "id": "e8fe442e",
   "metadata": {},
   "source": [
    "### join both data now"
   ]
  },
  {
   "cell_type": "code",
   "execution_count": 44,
   "id": "2c22aeb3",
   "metadata": {},
   "outputs": [
    {
     "name": "stdout",
     "output_type": "stream",
     "text": [
      "gspc_df.shape(): (17416, 7)\n",
      "cpi_df.shape(): (1274, 3)\n"
     ]
    },
    {
     "data": {
      "text/html": [
       "<div>\n",
       "<style scoped>\n",
       "    .dataframe tbody tr th:only-of-type {\n",
       "        vertical-align: middle;\n",
       "    }\n",
       "\n",
       "    .dataframe tbody tr th {\n",
       "        vertical-align: top;\n",
       "    }\n",
       "\n",
       "    .dataframe thead th {\n",
       "        text-align: right;\n",
       "    }\n",
       "</style>\n",
       "<table border=\"1\" class=\"dataframe\">\n",
       "  <thead>\n",
       "    <tr style=\"text-align: right;\">\n",
       "      <th></th>\n",
       "      <th>Date</th>\n",
       "      <th>GSPC_Close</th>\n",
       "      <th>CPI</th>\n",
       "      <th>CPI_pct_change</th>\n",
       "    </tr>\n",
       "  </thead>\n",
       "  <tbody>\n",
       "  </tbody>\n",
       "</table>\n",
       "</div>"
      ],
      "text/plain": [
       "Empty DataFrame\n",
       "Columns: [Date, GSPC_Close, CPI, CPI_pct_change]\n",
       "Index: []"
      ]
     },
     "execution_count": 44,
     "metadata": {},
     "output_type": "execute_result"
    }
   ],
   "source": [
    "# join the data sets\n",
    "\n",
    "print ('gspc_df.shape():', gspc_df.shape)\n",
    "print ('cpi_df.shape():', cpi_df.shape)\n",
    "together = pd.merge(gspc_df[['Date', 'Adj Close']],\n",
    "                    cpi_df[['Date', 'CPI', 'CPI_pct_change']],\n",
    "                   on = ['Date'], how= 'left')\n",
    "\n",
    "#fill the data\n",
    "\n",
    "together = together.fillna(method = 'ffill')\n",
    "together.columns = ['Date', 'GSPC_Close', 'CPI', 'CPI_pct_change']\n",
    "\n",
    "##drop the data\n",
    "\n",
    "together = together.dropna(axis=0)\n",
    "together.tail(20)"
   ]
  },
  {
   "cell_type": "code",
   "execution_count": 43,
   "id": "841fc202",
   "metadata": {},
   "outputs": [
    {
     "data": {
      "text/html": [
       "<div>\n",
       "<style scoped>\n",
       "    .dataframe tbody tr th:only-of-type {\n",
       "        vertical-align: middle;\n",
       "    }\n",
       "\n",
       "    .dataframe tbody tr th {\n",
       "        vertical-align: top;\n",
       "    }\n",
       "\n",
       "    .dataframe thead th {\n",
       "        text-align: right;\n",
       "    }\n",
       "</style>\n",
       "<table border=\"1\" class=\"dataframe\">\n",
       "  <thead>\n",
       "    <tr style=\"text-align: right;\">\n",
       "      <th></th>\n",
       "      <th>Date</th>\n",
       "      <th>GSPC_Close</th>\n",
       "      <th>CPI</th>\n",
       "      <th>CPI_pct_change</th>\n",
       "    </tr>\n",
       "  </thead>\n",
       "  <tbody>\n",
       "  </tbody>\n",
       "</table>\n",
       "</div>"
      ],
      "text/plain": [
       "Empty DataFrame\n",
       "Columns: [Date, GSPC_Close, CPI, CPI_pct_change]\n",
       "Index: []"
      ]
     },
     "execution_count": 43,
     "metadata": {},
     "output_type": "execute_result"
    }
   ],
   "source": [
    "together.tail(20)"
   ]
  },
  {
   "cell_type": "code",
   "execution_count": 40,
   "id": "c0e1ba15",
   "metadata": {},
   "outputs": [
    {
     "data": {
      "text/html": [
       "<div>\n",
       "<style scoped>\n",
       "    .dataframe tbody tr th:only-of-type {\n",
       "        vertical-align: middle;\n",
       "    }\n",
       "\n",
       "    .dataframe tbody tr th {\n",
       "        vertical-align: top;\n",
       "    }\n",
       "\n",
       "    .dataframe thead th {\n",
       "        text-align: right;\n",
       "    }\n",
       "</style>\n",
       "<table border=\"1\" class=\"dataframe\">\n",
       "  <thead>\n",
       "    <tr style=\"text-align: right;\">\n",
       "      <th></th>\n",
       "      <th>Date</th>\n",
       "      <th>GSPC_Close</th>\n",
       "      <th>CPI</th>\n",
       "      <th>CPI_pct_change</th>\n",
       "      <th>GSPC_Close_CPI_Adj</th>\n",
       "    </tr>\n",
       "  </thead>\n",
       "  <tbody>\n",
       "  </tbody>\n",
       "</table>\n",
       "</div>"
      ],
      "text/plain": [
       "Empty DataFrame\n",
       "Columns: [Date, GSPC_Close, CPI, CPI_pct_change, GSPC_Close_CPI_Adj]\n",
       "Index: []"
      ]
     },
     "execution_count": 40,
     "metadata": {},
     "output_type": "execute_result"
    }
   ],
   "source": [
    "# base CPI as of today\n",
    "ref_price = 252.776\n",
    "\n",
    "together['GSPC_Close_CPI_Adj'] = (together['GSPC_Close'] /\n",
    "                                  together['CPI']) * ref_price\n",
    "together.tail()"
   ]
  },
  {
   "cell_type": "code",
   "execution_count": 57,
   "id": "171d083a",
   "metadata": {},
   "outputs": [],
   "source": [
    "import matplotlib.pyplot as plt\n",
    "from pandas.plotting import register_matplotlib_converters\n",
    "register_matplotlib_converters()"
   ]
  },
  {
   "cell_type": "code",
   "execution_count": 59,
   "id": "9e757ef8",
   "metadata": {},
   "outputs": [
    {
     "data": {
      "image/png": "[encoded data removed]",
      "text/plain": [
       "<Figure size 432x288 with 2 Axes>"
      ]
     },
     "metadata": {
      "needs_background": "light"
     },
     "output_type": "display_data"
    }
   ],
   "source": [
    "x = together.index\n",
    "y1 = together['GSPC_Close']\n",
    "y2 = together['CPI_pct_change']\n",
    "\n",
    "fig, ax1 = plt.subplots()\n",
    "ax2 = ax1.twinx()"
   ]
  },
  {
   "cell_type": "code",
   "execution_count": 55,
   "id": "e0e324a5",
   "metadata": {},
   "outputs": [
    {
     "ename": "ValueError",
     "evalue": "'vals' is not a valid value for axis; supported values are 'x', 'y', 'both'",
     "output_type": "error",
     "traceback": [
      "\u001b[1;31m---------------------------------------------------------------------------\u001b[0m",
      "\u001b[1;31mValueError\u001b[0m                                Traceback (most recent call last)",
      "\u001b[1;32m<ipython-input-55-67e0a659b0b1>\u001b[0m in \u001b[0;36m<module>\u001b[1;34m\u001b[0m\n\u001b[0;32m      7\u001b[0m \u001b[0mplt\u001b[0m\u001b[1;33m.\u001b[0m\u001b[0mgrid\u001b[0m\u001b[1;33m(\u001b[0m\u001b[1;33m)\u001b[0m\u001b[1;33m\u001b[0m\u001b[1;33m\u001b[0m\u001b[0m\n\u001b[0;32m      8\u001b[0m \u001b[0mplt\u001b[0m\u001b[1;33m.\u001b[0m\u001b[0maxhline\u001b[0m\u001b[1;33m(\u001b[0m\u001b[1;36m0\u001b[0m\u001b[1;33m)\u001b[0m\u001b[1;33m\u001b[0m\u001b[1;33m\u001b[0m\u001b[0m\n\u001b[1;32m----> 9\u001b[1;33m \u001b[0max\u001b[0m\u001b[1;33m.\u001b[0m\u001b[0mtick_params\u001b[0m\u001b[1;33m(\u001b[0m\u001b[1;34m'vals'\u001b[0m\u001b[1;33m,\u001b[0m \u001b[0mcolors\u001b[0m\u001b[1;33m=\u001b[0m\u001b[1;34m'r'\u001b[0m\u001b[1;33m)\u001b[0m\u001b[1;33m\u001b[0m\u001b[1;33m\u001b[0m\u001b[0m\n\u001b[0m",
      "\u001b[1;32m~\\anaconda3\\lib\\site-packages\\matplotlib\\axes\\_base.py\u001b[0m in \u001b[0;36mtick_params\u001b[1;34m(self, axis, **kwargs)\u001b[0m\n\u001b[0;32m   3074\u001b[0m \u001b[1;33m\u001b[0m\u001b[0m\n\u001b[0;32m   3075\u001b[0m         \"\"\"\n\u001b[1;32m-> 3076\u001b[1;33m         \u001b[0mcbook\u001b[0m\u001b[1;33m.\u001b[0m\u001b[0m_check_in_list\u001b[0m\u001b[1;33m(\u001b[0m\u001b[1;33m[\u001b[0m\u001b[1;34m'x'\u001b[0m\u001b[1;33m,\u001b[0m \u001b[1;34m'y'\u001b[0m\u001b[1;33m,\u001b[0m \u001b[1;34m'both'\u001b[0m\u001b[1;33m]\u001b[0m\u001b[1;33m,\u001b[0m \u001b[0maxis\u001b[0m\u001b[1;33m=\u001b[0m\u001b[0maxis\u001b[0m\u001b[1;33m)\u001b[0m\u001b[1;33m\u001b[0m\u001b[1;33m\u001b[0m\u001b[0m\n\u001b[0m\u001b[0;32m   3077\u001b[0m         \u001b[1;32mif\u001b[0m \u001b[0maxis\u001b[0m \u001b[1;32min\u001b[0m \u001b[1;33m[\u001b[0m\u001b[1;34m'x'\u001b[0m\u001b[1;33m,\u001b[0m \u001b[1;34m'both'\u001b[0m\u001b[1;33m]\u001b[0m\u001b[1;33m:\u001b[0m\u001b[1;33m\u001b[0m\u001b[1;33m\u001b[0m\u001b[0m\n\u001b[0;32m   3078\u001b[0m             \u001b[0mxkw\u001b[0m \u001b[1;33m=\u001b[0m \u001b[0mdict\u001b[0m\u001b[1;33m(\u001b[0m\u001b[0mkwargs\u001b[0m\u001b[1;33m)\u001b[0m\u001b[1;33m\u001b[0m\u001b[1;33m\u001b[0m\u001b[0m\n",
      "\u001b[1;32m~\\anaconda3\\lib\\site-packages\\matplotlib\\cbook\\__init__.py\u001b[0m in \u001b[0;36m_check_in_list\u001b[1;34m(_values, **kwargs)\u001b[0m\n\u001b[0;32m   2264\u001b[0m     \u001b[1;32mfor\u001b[0m \u001b[0mk\u001b[0m\u001b[1;33m,\u001b[0m \u001b[0mv\u001b[0m \u001b[1;32min\u001b[0m \u001b[0mkwargs\u001b[0m\u001b[1;33m.\u001b[0m\u001b[0mitems\u001b[0m\u001b[1;33m(\u001b[0m\u001b[1;33m)\u001b[0m\u001b[1;33m:\u001b[0m\u001b[1;33m\u001b[0m\u001b[1;33m\u001b[0m\u001b[0m\n\u001b[0;32m   2265\u001b[0m         \u001b[1;32mif\u001b[0m \u001b[0mv\u001b[0m \u001b[1;32mnot\u001b[0m \u001b[1;32min\u001b[0m \u001b[0mvalues\u001b[0m\u001b[1;33m:\u001b[0m\u001b[1;33m\u001b[0m\u001b[1;33m\u001b[0m\u001b[0m\n\u001b[1;32m-> 2266\u001b[1;33m             raise ValueError(\n\u001b[0m\u001b[0;32m   2267\u001b[0m                 \u001b[1;34m\"{!r} is not a valid value for {}; supported values are {}\"\u001b[0m\u001b[1;33m\u001b[0m\u001b[1;33m\u001b[0m\u001b[0m\n\u001b[0;32m   2268\u001b[0m                 .format(v, k, ', '.join(map(repr, values))))\n",
      "\u001b[1;31mValueError\u001b[0m: 'vals' is not a valid value for axis; supported values are 'x', 'y', 'both'"
     ]
    },
    {
     "data": {
      "image/png": "[encoded data removed]",
      "text/plain": [
       "<Figure size 1152x576 with 1 Axes>"
      ]
     },
     "metadata": {
      "needs_background": "light"
     },
     "output_type": "display_data"
    }
   ],
   "source": [
    "# join datasets\n",
    "\n",
    "fig, ax = plt.subplots(figsize = (16,8))\n",
    "plt.plot(together['Date'],\n",
    "        together['CPI_pct_change'].rolling(window = 100).mean())\n",
    "         \n",
    "plt.grid()\n",
    "plt.axhline(0)\n",
    "ax.tick_params('vals', colors='r')\n",
    "\n"
   ]
  },
  {
   "cell_type": "code",
   "execution_count": null,
   "id": "4716806c",
   "metadata": {},
   "outputs": [],
   "source": []
  },
  {
   "cell_type": "code",
   "execution_count": null,
   "id": "1de3cb04",
   "metadata": {},
   "outputs": [],
   "source": []
  },
  {
   "cell_type": "code",
   "execution_count": null,
   "id": "b0339060",
   "metadata": {},
   "outputs": [],
   "source": []
  },
  {
   "cell_type": "code",
   "execution_count": null,
   "id": "ef2b965e",
   "metadata": {},
   "outputs": [],
   "source": []
  },
  {
   "cell_type": "code",
   "execution_count": null,
   "id": "9aa4a885",
   "metadata": {},
   "outputs": [],
   "source": []
  },
  {
   "cell_type": "code",
   "execution_count": null,
   "id": "281c06e6",
   "metadata": {},
   "outputs": [],
   "source": []
  },
  {
   "cell_type": "code",
   "execution_count": null,
   "id": "a94c3854",
   "metadata": {},
   "outputs": [],
   "source": []
  },
  {
   "cell_type": "code",
   "execution_count": null,
   "id": "2f55aeaf",
   "metadata": {},
   "outputs": [],
   "source": []
  },
  {
   "cell_type": "code",
   "execution_count": null,
   "id": "6b1e540f",
   "metadata": {},
   "outputs": [],
   "source": []
  },
  {
   "cell_type": "code",
   "execution_count": null,
   "id": "5e4a2fda",
   "metadata": {},
   "outputs": [],
   "source": []
  },
  {
   "cell_type": "code",
   "execution_count": null,
   "id": "c116608b",
   "metadata": {},
   "outputs": [],
   "source": []
  },
  {
   "cell_type": "code",
   "execution_count": null,
   "id": "776628c7",
   "metadata": {},
   "outputs": [],
   "source": []
  },
  {
   "cell_type": "code",
   "execution_count": null,
   "id": "93a0ee8b",
   "metadata": {},
   "outputs": [],
   "source": []
  },
  {
   "cell_type": "code",
   "execution_count": null,
   "id": "b5b96ab7",
   "metadata": {},
   "outputs": [],
   "source": []
  },
  {
   "cell_type": "code",
   "execution_count": null,
   "id": "23677fb1",
   "metadata": {},
   "outputs": [],
   "source": []
  },
  {
   "cell_type": "code",
   "execution_count": null,
   "id": "63bc75c6",
   "metadata": {},
   "outputs": [],
   "source": []
  }
 ],
 "metadata": {
  "kernelspec": {
   "display_name": "Python 3 (ipykernel)",
   "language": "python",
   "name": "python3"
  },
  "language_info": {
   "codemirror_mode": {
    "name": "ipython",
    "version": 3
   },
   "file_extension": ".py",
   "mimetype": "text/x-python",
   "name": "python",
   "nbconvert_exporter": "python",
   "pygments_lexer": "ipython3",
   "version": "3.9.12"
  }
 },
 "nbformat": 4,
 "nbformat_minor": 5
}
