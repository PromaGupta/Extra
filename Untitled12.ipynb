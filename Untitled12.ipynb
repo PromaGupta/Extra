{
 "cells": [
  {
   "cell_type": "code",
   "execution_count": 1,
   "id": "801c2f5e",
   "metadata": {},
   "outputs": [
    {
     "ename": "KeyError",
     "evalue": "0",
     "output_type": "error",
     "traceback": [
      "\u001b[1;31m---------------------------------------------------------------------------\u001b[0m",
      "\u001b[1;31mKeyError\u001b[0m                                  Traceback (most recent call last)",
      "Input \u001b[1;32mIn [1]\u001b[0m, in \u001b[0;36m<cell line: 10>\u001b[1;34m()\u001b[0m\n\u001b[0;32m      8\u001b[0m \u001b[38;5;66;03m#1 GET LIST OF PEERS\u001b[39;00m\n\u001b[0;32m      9\u001b[0m peers \u001b[38;5;241m=\u001b[39m requests\u001b[38;5;241m.\u001b[39mget(url)\u001b[38;5;241m.\u001b[39mjson()\n\u001b[1;32m---> 10\u001b[0m peers \u001b[38;5;241m=\u001b[39m \u001b[43mpeers\u001b[49m\u001b[43m[\u001b[49m\u001b[38;5;241;43m0\u001b[39;49m\u001b[43m]\u001b[49m[\u001b[38;5;124m'\u001b[39m\u001b[38;5;124mpeersList\u001b[39m\u001b[38;5;124m'\u001b[39m]\n\u001b[0;32m     12\u001b[0m profitability_ratios \u001b[38;5;241m=\u001b[39m {}\n\u001b[0;32m     13\u001b[0m \u001b[38;5;66;03m#2 Retrieve Profitability Ratios for each of the peers\u001b[39;00m\n",
      "\u001b[1;31mKeyError\u001b[0m: 0"
     ]
    }
   ],
   "source": [
    "import requests\n",
    "import pandas as pd \n",
    "stock = 'AAPL'\n",
    "\n",
    "api_key = 'your api key'\n",
    "url = f'https://financialmodelingprep.com/api/v4/stock_peers?symbol={stock}&apikey={api_key}'\n",
    "\n",
    "#1 GET LIST OF PEERS\n",
    "peers = requests.get(url).json()\n",
    "peers = peers[0]['peersList']\n",
    "\n",
    "profitability_ratios = {}\n",
    "#2 Retrieve Profitability Ratios for each of the peers\n",
    "for stock in peers:\n",
    "  #3 Add to Python Dictionary\n",
    "  profitability_ratios[stock] = {}\n",
    "  fr = f'https://financialmodelingprep.com/api/v3/ratios-ttm/{stock}?apikey={api_key}'\n",
    "  financial_ratios_ttm = requests.get(fr).json()\n",
    "  profitability_ratios[stock]['Return on Assets'] = financial_ratios_ttm[0]['returnOnAssetsTTM']\n",
    "  profitability_ratios[stock]['Return on Equity'] = financial_ratios_ttm[0]['returnOnEquityTTM']\n",
    "  profitability_ratios[stock]['Gross Profit Margin'] = financial_ratios_ttm[0]['grossProfitMarginTTM']\n",
    "  profitability_ratios[stock]['Opearting Profit Margin'] = financial_ratios_ttm[0]['operatingProfitMarginTTM']\n",
    "  profitability_ratios[stock]['Net Profit Margin'] = financial_ratios_ttm[0]['netProfitMarginTTM']\n",
    "\n",
    "#4 Convert into Pandas DataFrame\n",
    "profitability_ratios = pd.DataFrame(profitability_ratios)\n",
    "profitability_ratios"
   ]
  },
  {
   "cell_type": "code",
   "execution_count": null,
   "id": "386fa999",
   "metadata": {},
   "outputs": [],
   "source": []
  }
 ],
 "metadata": {
  "kernelspec": {
   "display_name": "Python 3 (ipykernel)",
   "language": "python",
   "name": "python3"
  },
  "language_info": {
   "codemirror_mode": {
    "name": "ipython",
    "version": 3
   },
   "file_extension": ".py",
   "mimetype": "text/x-python",
   "name": "python",
   "nbconvert_exporter": "python",
   "pygments_lexer": "ipython3",
   "version": "3.9.12"
  }
 },
 "nbformat": 4,
 "nbformat_minor": 5
}
