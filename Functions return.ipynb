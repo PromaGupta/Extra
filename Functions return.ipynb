{
 "cells": [
  {
   "cell_type": "code",
   "execution_count": 2,
   "id": "7349d5b9",
   "metadata": {},
   "outputs": [
    {
     "name": "stdout",
     "output_type": "stream",
     "text": [
      "Proma, hates it\n"
     ]
    }
   ],
   "source": [
    "def beef():\n",
    "    print(\"Proma, hates it\")\n",
    "    \n",
    "beef()"
   ]
  },
  {
   "cell_type": "code",
   "execution_count": 3,
   "id": "500404df",
   "metadata": {},
   "outputs": [
    {
     "name": "stdout",
     "output_type": "stream",
     "text": [
      "80\n"
     ]
    }
   ],
   "source": [
    "def bdt_to_usd(bdt):\n",
    "    amount = bdt * 80\n",
    "    print(amount)\n",
    "    \n",
    "bdt_to_usd(1) "
   ]
  },
  {
   "cell_type": "code",
   "execution_count": 9,
   "id": "60eed262",
   "metadata": {},
   "outputs": [
    {
     "name": "stdout",
     "output_type": "stream",
     "text": [
      "0.025\n"
     ]
    }
   ],
   "source": [
    "\n",
    "#definition of bdt\n",
    "\n",
    "def bdt_to_usd(bdt):\n",
    "    amount = bdt/80\n",
    "    print(amount)\n",
    "    \n",
    "bdt_to_usd(2)\n",
    "\n",
    "#That menas 2 usd = 0.025 BDT"
   ]
  },
  {
   "cell_type": "code",
   "execution_count": 12,
   "id": "ddff14c3",
   "metadata": {},
   "outputs": [
    {
     "data": {
      "text/plain": [
       "31.5"
      ]
     },
     "execution_count": 12,
     "metadata": {},
     "output_type": "execute_result"
    }
   ],
   "source": [
    "def allowed_dating_age(my_age):\n",
    "    girls_age = my_age/2 + 7\n",
    "    return girls_age\n",
    "\n",
    "allowed_dating_age(27)\n",
    "allowed_dating_age(49)"
   ]
  },
  {
   "cell_type": "code",
   "execution_count": null,
   "id": "56caeae4",
   "metadata": {},
   "outputs": [],
   "source": [
    "## eXAMPLE"
   ]
  },
  {
   "cell_type": "markdown",
   "id": "cead6f48",
   "metadata": {},
   "source": [
    "## Say that we are operating a restaurant. We want to create a program that returns the cost of the sandwich meals we have on the menu. This task should be contained within a function because we intend to use it more than once.\n",
    "\n",
    "## The waitress should enter the name of the sandwich a customer has ordered, and be presented with the price of the sandwich. We could accomplish this task using the following code:"
   ]
  },
  {
   "cell_type": "code",
   "execution_count": 14,
   "id": "cc3c1879",
   "metadata": {},
   "outputs": [
    {
     "data": {
      "text/plain": [
       "2.5"
      ]
     },
     "execution_count": 14,
     "metadata": {},
     "output_type": "execute_result"
    }
   ],
   "source": [
    "Sandwich = \"Ham Cheese\"\n",
    "\n",
    "def calculate_price(product):\n",
    "    if product == \"Ham Cheese\":\n",
    "        return 2.50\n",
    "    \n",
    "    elif product == \"Grill\":\n",
    "        return 2.20\n",
    "    \n",
    "    elif product == \"Egg Mayo\":\n",
    "        return 2\n",
    "    else:\n",
    "        return 1\n",
    "    \n",
    "\n",
    "calculate_price(Sandwich)\n"
   ]
  },
  {
   "cell_type": "code",
   "execution_count": 15,
   "id": "627fc489",
   "metadata": {},
   "outputs": [
    {
     "data": {
      "text/plain": [
       "1"
      ]
     },
     "execution_count": 15,
     "metadata": {},
     "output_type": "execute_result"
    }
   ],
   "source": [
    "Sandwich = \"Turkey\"\n",
    "calculate_price(Sandwich)"
   ]
  },
  {
   "cell_type": "code",
   "execution_count": null,
   "id": "6e3a28c4",
   "metadata": {},
   "outputs": [],
   "source": []
  },
  {
   "cell_type": "code",
   "execution_count": null,
   "id": "5be13905",
   "metadata": {},
   "outputs": [],
   "source": []
  },
  {
   "cell_type": "code",
   "execution_count": null,
   "id": "97298901",
   "metadata": {},
   "outputs": [],
   "source": []
  },
  {
   "cell_type": "code",
   "execution_count": null,
   "id": "c1f74c3e",
   "metadata": {},
   "outputs": [],
   "source": []
  },
  {
   "cell_type": "code",
   "execution_count": null,
   "id": "dc7471f5",
   "metadata": {},
   "outputs": [],
   "source": []
  },
  {
   "cell_type": "code",
   "execution_count": null,
   "id": "2d69c891",
   "metadata": {},
   "outputs": [],
   "source": []
  },
  {
   "cell_type": "code",
   "execution_count": null,
   "id": "f3cdab58",
   "metadata": {},
   "outputs": [],
   "source": []
  }
 ],
 "metadata": {
  "kernelspec": {
   "display_name": "Python 3 (ipykernel)",
   "language": "python",
   "name": "python3"
  },
  "language_info": {
   "codemirror_mode": {
    "name": "ipython",
    "version": 3
   },
   "file_extension": ".py",
   "mimetype": "text/x-python",
   "name": "python",
   "nbconvert_exporter": "python",
   "pygments_lexer": "ipython3",
   "version": "3.8.12"
  }
 },
 "nbformat": 4,
 "nbformat_minor": 5
}
