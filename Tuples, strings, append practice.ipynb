{
 "cells": [
  {
   "cell_type": "code",
   "execution_count": 1,
   "id": "f661a56d",
   "metadata": {},
   "outputs": [
    {
     "data": {
      "text/plain": [
       "\"i don't yhink she is'\""
      ]
     },
     "execution_count": 1,
     "metadata": {},
     "output_type": "execute_result"
    }
   ],
   "source": [
    "##usine \\\n",
    "\n",
    "\"i don\\'t yhink she is'\""
   ]
  },
  {
   "cell_type": "code",
   "execution_count": 2,
   "id": "0a2a4034",
   "metadata": {},
   "outputs": [
    {
     "name": "stdout",
     "output_type": "stream",
     "text": [
      "C:\\Bucky\\Desktop\\nudepics\n"
     ]
    }
   ],
   "source": [
    "#keep the line as it is\n",
    "\n",
    "print(r'C:\\Bucky\\Desktop\\nudepics')"
   ]
  },
  {
   "cell_type": "code",
   "execution_count": 3,
   "id": "539d56b5",
   "metadata": {},
   "outputs": [
    {
     "name": "stdout",
     "output_type": "stream",
     "text": [
      "C:\\Bucky\\Desktop\n",
      "udepics\n"
     ]
    }
   ],
   "source": [
    "\n",
    "print('C:\\Bucky\\Desktop\\nudepics')"
   ]
  },
  {
   "cell_type": "code",
   "execution_count": 5,
   "id": "f6ee875b",
   "metadata": {},
   "outputs": [
    {
     "data": {
      "text/plain": [
       "'Bucke Ropberts'"
      ]
     },
     "execution_count": 5,
     "metadata": {},
     "output_type": "execute_result"
    }
   ],
   "source": [
    "# joint strings\n",
    "\n",
    "firstname = \"Bucke \"\n",
    "firstname + \"Ropberts\""
   ]
  },
  {
   "cell_type": "code",
   "execution_count": 6,
   "id": "782d3d25",
   "metadata": {},
   "outputs": [
    {
     "data": {
      "text/plain": [
       "'Bucke Bucke Bucke Bucke Bucke Bucke '"
      ]
     },
     "execution_count": 6,
     "metadata": {},
     "output_type": "execute_result"
    }
   ],
   "source": [
    "#multiply strings\n",
    "\n",
    "firstname * 6"
   ]
  },
  {
   "cell_type": "code",
   "execution_count": 8,
   "id": "3afcb5ae",
   "metadata": {},
   "outputs": [
    {
     "data": {
      "text/plain": [
       "125"
      ]
     },
     "execution_count": 8,
     "metadata": {},
     "output_type": "execute_result"
    }
   ],
   "source": [
    "#for power\n",
    "\n",
    "5 ** 3"
   ]
  },
  {
   "cell_type": "code",
   "execution_count": 9,
   "id": "131ac9b0",
   "metadata": {},
   "outputs": [
    {
     "name": "stdout",
     "output_type": "stream",
     "text": [
      "Gupta Proma\n"
     ]
    }
   ],
   "source": [
    "##reverse order\n",
    "\n",
    "a = \"Proma\"\n",
    "b= \"Gupta\"\n",
    "\n",
    "print (b,a)"
   ]
  },
  {
   "cell_type": "code",
   "execution_count": 14,
   "id": "ccb6476f",
   "metadata": {},
   "outputs": [
    {
     "data": {
      "text/plain": [
       "'r'"
      ]
     },
     "execution_count": 14,
     "metadata": {},
     "output_type": "execute_result"
    }
   ],
   "source": [
    "#slicing string\n",
    "\n",
    "a = \"Prome Gupth\"\n",
    "\n",
    "a[1]"
   ]
  },
  {
   "cell_type": "code",
   "execution_count": 15,
   "id": "3e69a90c",
   "metadata": {},
   "outputs": [
    {
     "data": {
      "text/plain": [
       "'h'"
      ]
     },
     "execution_count": 15,
     "metadata": {},
     "output_type": "execute_result"
    }
   ],
   "source": [
    "#for the last character\n",
    "\n",
    "a[-1]"
   ]
  },
  {
   "cell_type": "code",
   "execution_count": 16,
   "id": "cdfc7004",
   "metadata": {},
   "outputs": [
    {
     "data": {
      "text/plain": [
       "'p'"
      ]
     },
     "execution_count": 16,
     "metadata": {},
     "output_type": "execute_result"
    }
   ],
   "source": [
    "a[-3]"
   ]
  },
  {
   "cell_type": "code",
   "execution_count": 18,
   "id": "07110981",
   "metadata": {},
   "outputs": [
    {
     "data": {
      "text/plain": [
       "'me Gu'"
      ]
     },
     "execution_count": 18,
     "metadata": {},
     "output_type": "execute_result"
    }
   ],
   "source": [
    "#slice out middle of the string\n",
    "\n",
    "a[3:8]"
   ]
  },
  {
   "cell_type": "code",
   "execution_count": 19,
   "id": "9fa17b84",
   "metadata": {},
   "outputs": [
    {
     "data": {
      "text/plain": [
       "'me Gupth'"
      ]
     },
     "execution_count": 19,
     "metadata": {},
     "output_type": "execute_result"
    }
   ],
   "source": [
    "a[3:]"
   ]
  },
  {
   "cell_type": "code",
   "execution_count": 20,
   "id": "0615cf81",
   "metadata": {},
   "outputs": [
    {
     "data": {
      "text/plain": [
       "'Prome Gupth'"
      ]
     },
     "execution_count": 20,
     "metadata": {},
     "output_type": "execute_result"
    }
   ],
   "source": [
    "a[:]"
   ]
  },
  {
   "cell_type": "code",
   "execution_count": 22,
   "id": "0f1b28fe",
   "metadata": {},
   "outputs": [
    {
     "data": {
      "text/plain": [
       "13"
      ]
     },
     "execution_count": 22,
     "metadata": {},
     "output_type": "execute_result"
    }
   ],
   "source": [
    "len('Aparajita Sen')"
   ]
  },
  {
   "cell_type": "code",
   "execution_count": 23,
   "id": "d2c8a4b2",
   "metadata": {},
   "outputs": [
    {
     "data": {
      "text/plain": [
       "17"
      ]
     },
     "execution_count": 23,
     "metadata": {},
     "output_type": "execute_result"
    }
   ],
   "source": [
    "## list\n",
    "\n",
    "players = [12, 14, 17, 18]\n",
    "\n",
    "players[2]"
   ]
  },
  {
   "cell_type": "code",
   "execution_count": 26,
   "id": "c207e304",
   "metadata": {},
   "outputs": [
    {
     "data": {
      "text/plain": [
       "14"
      ]
     },
     "execution_count": 26,
     "metadata": {},
     "output_type": "execute_result"
    }
   ],
   "source": [
    "players[-3]"
   ]
  },
  {
   "cell_type": "code",
   "execution_count": 27,
   "id": "b0847edf",
   "metadata": {},
   "outputs": [
    {
     "data": {
      "text/plain": [
       "[12, 14, 17, 18, 90, 91, 98]"
      ]
     },
     "execution_count": 27,
     "metadata": {},
     "output_type": "execute_result"
    }
   ],
   "source": [
    "players + [90, 91, 98]"
   ]
  },
  {
   "cell_type": "code",
   "execution_count": 28,
   "id": "5689c791",
   "metadata": {},
   "outputs": [
    {
     "data": {
      "text/plain": [
       "[12, 14, 17, 18]"
      ]
     },
     "execution_count": 28,
     "metadata": {},
     "output_type": "execute_result"
    }
   ],
   "source": [
    "players"
   ]
  },
  {
   "cell_type": "code",
   "execution_count": 33,
   "id": "7658871b",
   "metadata": {},
   "outputs": [
    {
     "data": {
      "text/plain": [
       "[12, 14, 17, 18, 90, 90, 96, 96, 96]"
      ]
     },
     "execution_count": 33,
     "metadata": {},
     "output_type": "execute_result"
    }
   ],
   "source": [
    "players.append(96)\n",
    "\n",
    "players"
   ]
  },
  {
   "cell_type": "code",
   "execution_count": 34,
   "id": "b2f88449",
   "metadata": {},
   "outputs": [
    {
     "data": {
      "text/plain": [
       "[45, 47, 48]"
      ]
     },
     "execution_count": 34,
     "metadata": {},
     "output_type": "execute_result"
    }
   ],
   "source": [
    "a = [45, 47, 48]\n",
    "a"
   ]
  },
  {
   "cell_type": "code",
   "execution_count": 36,
   "id": "dd653dd3",
   "metadata": {},
   "outputs": [
    {
     "data": {
      "text/plain": [
       "[45, 47, 48, 6, 6]"
      ]
     },
     "execution_count": 36,
     "metadata": {},
     "output_type": "execute_result"
    }
   ],
   "source": [
    "#append meand add\n",
    "\n",
    "a.append(6)\n",
    "a"
   ]
  },
  {
   "cell_type": "code",
   "execution_count": 37,
   "id": "c62edb6d",
   "metadata": {},
   "outputs": [
    {
     "data": {
      "text/plain": [
       "[45, 47]"
      ]
     },
     "execution_count": 37,
     "metadata": {},
     "output_type": "execute_result"
    }
   ],
   "source": [
    "a[:2]"
   ]
  },
  {
   "cell_type": "code",
   "execution_count": 38,
   "id": "c99c4fee",
   "metadata": {},
   "outputs": [
    {
     "data": {
      "text/plain": [
       "[48, 6, 6]"
      ]
     },
     "execution_count": 38,
     "metadata": {},
     "output_type": "execute_result"
    }
   ],
   "source": [
    "a[2:]"
   ]
  },
  {
   "cell_type": "code",
   "execution_count": 39,
   "id": "12a48826",
   "metadata": {},
   "outputs": [
    {
     "data": {
      "text/plain": [
       "[45, 47]"
      ]
     },
     "execution_count": 39,
     "metadata": {},
     "output_type": "execute_result"
    }
   ],
   "source": [
    "a[:2]"
   ]
  },
  {
   "cell_type": "code",
   "execution_count": 41,
   "id": "0f69091f",
   "metadata": {},
   "outputs": [
    {
     "data": {
      "text/plain": [
       "[0, 0, 48, 6, 6]"
      ]
     },
     "execution_count": 41,
     "metadata": {},
     "output_type": "execute_result"
    }
   ],
   "source": [
    "#change the value of first 2\n",
    "\n",
    "a[:2] = [0, 0]\n",
    "a"
   ]
  },
  {
   "cell_type": "code",
   "execution_count": 47,
   "id": "09cb22b4",
   "metadata": {},
   "outputs": [
    {
     "data": {
      "text/plain": [
       "[]"
      ]
     },
     "execution_count": 47,
     "metadata": {},
     "output_type": "execute_result"
    }
   ],
   "source": [
    "#to omit the first 2\n",
    "\n",
    "a[:3] = []\n",
    "a"
   ]
  },
  {
   "cell_type": "code",
   "execution_count": 48,
   "id": "1811cfeb",
   "metadata": {},
   "outputs": [
    {
     "data": {
      "text/plain": [
       "['His', 'Math', 'Ban', 'Geo']"
      ]
     },
     "execution_count": 48,
     "metadata": {},
     "output_type": "execute_result"
    }
   ],
   "source": [
    "c = ['His', 'Math', 'Ban', 'Geo']\n",
    "c"
   ]
  },
  {
   "cell_type": "code",
   "execution_count": 49,
   "id": "93560ccf",
   "metadata": {},
   "outputs": [
    {
     "data": {
      "text/plain": [
       "['His', 'Math']"
      ]
     },
     "execution_count": 49,
     "metadata": {},
     "output_type": "execute_result"
    }
   ],
   "source": [
    "c[0:2]"
   ]
  },
  {
   "cell_type": "code",
   "execution_count": 52,
   "id": "f3f60ad1",
   "metadata": {},
   "outputs": [
    {
     "data": {
      "text/plain": [
       "['His', 'Math', 'Ban', 'Geo', 'Eng', 'Eng']"
      ]
     },
     "execution_count": 52,
     "metadata": {},
     "output_type": "execute_result"
    }
   ],
   "source": [
    "c.append('Eng')\n",
    "c"
   ]
  },
  {
   "cell_type": "code",
   "execution_count": 54,
   "id": "06ad3316",
   "metadata": {},
   "outputs": [
    {
     "data": {
      "text/plain": [
       "[['Art', 'Fin'], ['Art', 'Fin'], 'His', 'Math', 'Ban', 'Geo', 'Eng', 'Eng']"
      ]
     },
     "execution_count": 54,
     "metadata": {},
     "output_type": "execute_result"
    }
   ],
   "source": [
    "d = ['Art', 'Fin']\n",
    "c.insert(0, d)\n",
    "c"
   ]
  },
  {
   "cell_type": "code",
   "execution_count": 55,
   "id": "25ac6778",
   "metadata": {},
   "outputs": [],
   "source": [
    "c.remove('Math')"
   ]
  },
  {
   "cell_type": "code",
   "execution_count": 56,
   "id": "4c0898c1",
   "metadata": {},
   "outputs": [
    {
     "data": {
      "text/plain": [
       "[['Art', 'Fin'], ['Art', 'Fin'], 'His', 'Ban', 'Geo', 'Eng', 'Eng']"
      ]
     },
     "execution_count": 56,
     "metadata": {},
     "output_type": "execute_result"
    }
   ],
   "source": [
    "c"
   ]
  },
  {
   "cell_type": "code",
   "execution_count": 58,
   "id": "4c027386",
   "metadata": {},
   "outputs": [
    {
     "data": {
      "text/plain": [
       "'Eng'"
      ]
     },
     "execution_count": 58,
     "metadata": {},
     "output_type": "execute_result"
    }
   ],
   "source": [
    "c.pop()"
   ]
  },
  {
   "cell_type": "code",
   "execution_count": 60,
   "id": "76d1fc55",
   "metadata": {},
   "outputs": [
    {
     "data": {
      "text/plain": [
       "[['Art', 'Fin'], ['Art', 'Fin'], 'His', 'Ban', 'Geo']"
      ]
     },
     "execution_count": 60,
     "metadata": {},
     "output_type": "execute_result"
    }
   ],
   "source": [
    "c[:-1]"
   ]
  },
  {
   "cell_type": "code",
   "execution_count": 62,
   "id": "83c12361",
   "metadata": {},
   "outputs": [],
   "source": [
    "f = ['His', 'Math', 'Ban', 'Geo']"
   ]
  },
  {
   "cell_type": "code",
   "execution_count": null,
   "id": "db33772e",
   "metadata": {},
   "outputs": [],
   "source": []
  },
  {
   "cell_type": "code",
   "execution_count": 65,
   "id": "4ba8ad6e",
   "metadata": {},
   "outputs": [
    {
     "name": "stdout",
     "output_type": "stream",
     "text": [
      "['Ban', 'Geo', 'His', 'Math']\n"
     ]
    }
   ],
   "source": [
    "##alphabetical arrangement\n",
    "\n",
    "sorted_f = sorted(f)\n",
    "print (sorted_f)"
   ]
  },
  {
   "cell_type": "code",
   "execution_count": 66,
   "id": "ad75e8d6",
   "metadata": {},
   "outputs": [
    {
     "name": "stdout",
     "output_type": "stream",
     "text": [
      "His, Math, Ban, Geo\n"
     ]
    }
   ],
   "source": [
    "#remove the inverted comma\n",
    "\n",
    "f_str = ', '.join(f)\n",
    "\n",
    "print(f_str)"
   ]
  },
  {
   "cell_type": "code",
   "execution_count": null,
   "id": "553be3dd",
   "metadata": {},
   "outputs": [],
   "source": [
    "#tuples\n"
   ]
  },
  {
   "cell_type": "code",
   "execution_count": 68,
   "id": "f2c1bb96",
   "metadata": {},
   "outputs": [
    {
     "name": "stdout",
     "output_type": "stream",
     "text": [
      "['His', 'Math', 'Ban', 'Geo']\n"
     ]
    }
   ],
   "source": [
    "list_1 = ['His', 'Math', 'Ban', 'Geo']\n",
    "list_2 = list_1\n",
    "\n",
    "print(list_1)"
   ]
  },
  {
   "cell_type": "code",
   "execution_count": 73,
   "id": "51a353a4",
   "metadata": {},
   "outputs": [
    {
     "name": "stdout",
     "output_type": "stream",
     "text": [
      "['Art', 'Math', 'Ban', 'Geo']\n"
     ]
    }
   ],
   "source": [
    "print(list_2)"
   ]
  },
  {
   "cell_type": "code",
   "execution_count": 70,
   "id": "da93cd8c",
   "metadata": {},
   "outputs": [
    {
     "name": "stdout",
     "output_type": "stream",
     "text": [
      "['His', 'Math', 'Ban', 'Geo'] ['His', 'Math', 'Ban', 'Geo']\n"
     ]
    }
   ],
   "source": [
    "print(list_1,list_2)"
   ]
  },
  {
   "cell_type": "code",
   "execution_count": 71,
   "id": "55d32ab3",
   "metadata": {},
   "outputs": [],
   "source": [
    "list_1[0] = 'Art'"
   ]
  },
  {
   "cell_type": "code",
   "execution_count": 72,
   "id": "6d33c824",
   "metadata": {},
   "outputs": [
    {
     "data": {
      "text/plain": [
       "['Art', 'Math', 'Ban', 'Geo']"
      ]
     },
     "execution_count": 72,
     "metadata": {},
     "output_type": "execute_result"
    }
   ],
   "source": [
    "list_1"
   ]
  },
  {
   "cell_type": "code",
   "execution_count": 74,
   "id": "6a3ddd95",
   "metadata": {},
   "outputs": [],
   "source": [
    "tuple_1 = ('His', 'Math', 'Ban', 'Geo')\n",
    "tuple_2 = tuple_1"
   ]
  },
  {
   "cell_type": "code",
   "execution_count": 75,
   "id": "c45710d8",
   "metadata": {},
   "outputs": [
    {
     "name": "stdout",
     "output_type": "stream",
     "text": [
      "('His', 'Math', 'Ban', 'Geo')\n"
     ]
    }
   ],
   "source": [
    "print(tuple_1)"
   ]
  },
  {
   "cell_type": "code",
   "execution_count": 76,
   "id": "18f1905f",
   "metadata": {},
   "outputs": [
    {
     "name": "stdout",
     "output_type": "stream",
     "text": [
      "('His', 'Math', 'Ban', 'Geo')\n"
     ]
    }
   ],
   "source": [
    "print(tuple_2)"
   ]
  },
  {
   "cell_type": "code",
   "execution_count": 77,
   "id": "d7e72589",
   "metadata": {},
   "outputs": [
    {
     "ename": "TypeError",
     "evalue": "'tuple' object does not support item assignment",
     "output_type": "error",
     "traceback": [
      "\u001b[1;31m---------------------------------------------------------------------------\u001b[0m",
      "\u001b[1;31mTypeError\u001b[0m                                 Traceback (most recent call last)",
      "\u001b[1;32m<ipython-input-77-979fe1c59c37>\u001b[0m in \u001b[0;36m<module>\u001b[1;34m\u001b[0m\n\u001b[1;32m----> 1\u001b[1;33m \u001b[0mtuple_1\u001b[0m\u001b[1;33m[\u001b[0m\u001b[1;36m0\u001b[0m\u001b[1;33m]\u001b[0m \u001b[1;33m=\u001b[0m \u001b[1;34m'Art'\u001b[0m\u001b[1;33m\u001b[0m\u001b[1;33m\u001b[0m\u001b[0m\n\u001b[0m",
      "\u001b[1;31mTypeError\u001b[0m: 'tuple' object does not support item assignment"
     ]
    }
   ],
   "source": [
    "tuple_1[0] = 'Art'"
   ]
  },
  {
   "cell_type": "code",
   "execution_count": null,
   "id": "07b85f29",
   "metadata": {},
   "outputs": [],
   "source": []
  },
  {
   "cell_type": "code",
   "execution_count": null,
   "id": "6653f276",
   "metadata": {},
   "outputs": [],
   "source": []
  },
  {
   "cell_type": "code",
   "execution_count": null,
   "id": "3a4899b8",
   "metadata": {},
   "outputs": [],
   "source": []
  },
  {
   "cell_type": "code",
   "execution_count": null,
   "id": "a252ed77",
   "metadata": {},
   "outputs": [],
   "source": []
  },
  {
   "cell_type": "code",
   "execution_count": null,
   "id": "d914b6e7",
   "metadata": {},
   "outputs": [],
   "source": []
  },
  {
   "cell_type": "code",
   "execution_count": null,
   "id": "def85ca4",
   "metadata": {},
   "outputs": [],
   "source": []
  },
  {
   "cell_type": "code",
   "execution_count": null,
   "id": "b0299e58",
   "metadata": {},
   "outputs": [],
   "source": []
  },
  {
   "cell_type": "code",
   "execution_count": null,
   "id": "7942df2e",
   "metadata": {},
   "outputs": [],
   "source": []
  },
  {
   "cell_type": "code",
   "execution_count": null,
   "id": "eb8ad0af",
   "metadata": {},
   "outputs": [],
   "source": []
  },
  {
   "cell_type": "code",
   "execution_count": null,
   "id": "5e3982f0",
   "metadata": {},
   "outputs": [],
   "source": []
  },
  {
   "cell_type": "code",
   "execution_count": null,
   "id": "cd336fd8",
   "metadata": {},
   "outputs": [],
   "source": []
  },
  {
   "cell_type": "code",
   "execution_count": null,
   "id": "12a82b05",
   "metadata": {},
   "outputs": [],
   "source": []
  },
  {
   "cell_type": "code",
   "execution_count": null,
   "id": "efb961be",
   "metadata": {},
   "outputs": [],
   "source": []
  },
  {
   "cell_type": "code",
   "execution_count": null,
   "id": "25e70ed8",
   "metadata": {},
   "outputs": [],
   "source": []
  },
  {
   "cell_type": "code",
   "execution_count": null,
   "id": "466e1bd9",
   "metadata": {},
   "outputs": [],
   "source": []
  },
  {
   "cell_type": "code",
   "execution_count": null,
   "id": "f0d7a4d7",
   "metadata": {},
   "outputs": [],
   "source": []
  },
  {
   "cell_type": "code",
   "execution_count": null,
   "id": "5a9a7a17",
   "metadata": {},
   "outputs": [],
   "source": []
  },
  {
   "cell_type": "code",
   "execution_count": null,
   "id": "75c1a78c",
   "metadata": {},
   "outputs": [],
   "source": []
  },
  {
   "cell_type": "code",
   "execution_count": null,
   "id": "b5e5087e",
   "metadata": {},
   "outputs": [],
   "source": []
  },
  {
   "cell_type": "code",
   "execution_count": null,
   "id": "584eb1c2",
   "metadata": {},
   "outputs": [],
   "source": []
  },
  {
   "cell_type": "code",
   "execution_count": null,
   "id": "bfd6dc77",
   "metadata": {},
   "outputs": [],
   "source": []
  },
  {
   "cell_type": "code",
   "execution_count": null,
   "id": "68f34959",
   "metadata": {},
   "outputs": [],
   "source": []
  },
  {
   "cell_type": "code",
   "execution_count": null,
   "id": "9da3a006",
   "metadata": {},
   "outputs": [],
   "source": []
  },
  {
   "cell_type": "code",
   "execution_count": null,
   "id": "d3f40464",
   "metadata": {},
   "outputs": [],
   "source": []
  },
  {
   "cell_type": "code",
   "execution_count": null,
   "id": "cf273a60",
   "metadata": {},
   "outputs": [],
   "source": []
  },
  {
   "cell_type": "code",
   "execution_count": null,
   "id": "2eaaafa9",
   "metadata": {},
   "outputs": [],
   "source": []
  }
 ],
 "metadata": {
  "kernelspec": {
   "display_name": "Python 3",
   "language": "python",
   "name": "python3"
  },
  "language_info": {
   "codemirror_mode": {
    "name": "ipython",
    "version": 3
   },
   "file_extension": ".py",
   "mimetype": "text/x-python",
   "name": "python",
   "nbconvert_exporter": "python",
   "pygments_lexer": "ipython3",
   "version": "3.8.8"
  }
 },
 "nbformat": 4,
 "nbformat_minor": 5
}
