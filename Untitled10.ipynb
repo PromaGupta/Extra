{
 "cells": [
  {
   "cell_type": "code",
   "execution_count": 1,
   "id": "9c424474",
   "metadata": {},
   "outputs": [
    {
     "ename": "ERROR",
     "evalue": "Error in library(plm): there is no package called 'plm'\n",
     "output_type": "error",
     "traceback": [
      "Error in library(plm): there is no package called 'plm'\nTraceback:\n",
      "1. library(plm)"
     ]
    }
   ],
   "source": [
    "library(plm)"
   ]
  },
  {
   "cell_type": "code",
   "execution_count": null,
   "id": "5548e5b8",
   "metadata": {},
   "outputs": [],
   "source": []
  }
 ],
 "metadata": {
  "kernelspec": {
   "display_name": "R",
   "language": "R",
   "name": "ir"
  },
  "language_info": {
   "codemirror_mode": "r",
   "file_extension": ".r",
   "mimetype": "text/x-r-source",
   "name": "R",
   "pygments_lexer": "r",
   "version": "3.6.1"
  }
 },
 "nbformat": 4,
 "nbformat_minor": 5
}
