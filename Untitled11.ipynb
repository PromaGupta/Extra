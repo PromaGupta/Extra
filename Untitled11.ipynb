{
 "cells": [
  {
   "cell_type": "code",
   "execution_count": 5,
   "id": "c0874a27",
   "metadata": {},
   "outputs": [
    {
     "ename": "ERROR",
     "evalue": "Error in library(plm): there is no package called 'plm'\n",
     "output_type": "error",
     "traceback": [
      "Error in library(plm): there is no package called 'plm'\nTraceback:\n",
      "1. library(plm)"
     ]
    }
   ],
   "source": [
    "library(plm)"
   ]
  },
  {
   "cell_type": "code",
   "execution_count": 2,
   "id": "068c6bd1",
   "metadata": {},
   "outputs": [
    {
     "name": "stderr",
     "output_type": "stream",
     "text": [
      "also installing the dependencies 'miscTools', 'generics', 'rbibutils', 'MASS', 'bdsmatrix', 'collapse', 'zoo', 'nlme', 'sandwich', 'lattice', 'lmtest', 'maxLik', 'Rdpack', 'Formula'\n",
      "\n"
     ]
    },
    {
     "name": "stdout",
     "output_type": "stream",
     "text": [
      "\n",
      "  There are binary versions available but the source versions are later:\n",
      "           binary  source needs_compilation\n",
      "generics    0.1.0   0.1.2             FALSE\n",
      "rbibutils   2.1.1   2.2.8              TRUE\n",
      "MASS       7.3-54  7.3-57              TRUE\n",
      "bdsmatrix   1.3-4   1.3-6              TRUE\n",
      "collapse    1.5.3   1.8.6              TRUE\n",
      "zoo         1.8-9  1.8-10              TRUE\n",
      "nlme      3.1-152 3.1-158              TRUE\n",
      "sandwich    3.0-0   3.0-2             FALSE\n",
      "lattice   0.20-44 0.20-45              TRUE\n",
      "lmtest     0.9-38  0.9-40              TRUE\n",
      "maxLik      1.4-8   1.5-2             FALSE\n",
      "Rdpack      2.1.1   2.3.1             FALSE\n",
      "plm         2.4-1   2.6-1             FALSE\n",
      "\n",
      "  Binaries will be installed\n",
      "package 'miscTools' successfully unpacked and MD5 sums checked\n",
      "package 'rbibutils' successfully unpacked and MD5 sums checked\n",
      "package 'MASS' successfully unpacked and MD5 sums checked\n",
      "package 'bdsmatrix' successfully unpacked and MD5 sums checked\n",
      "package 'collapse' successfully unpacked and MD5 sums checked\n",
      "package 'zoo' successfully unpacked and MD5 sums checked\n",
      "package 'nlme' successfully unpacked and MD5 sums checked\n",
      "package 'lattice' successfully unpacked and MD5 sums checked\n",
      "package 'lmtest' successfully unpacked and MD5 sums checked\n",
      "package 'Formula' successfully unpacked and MD5 sums checked\n",
      "\n",
      "The downloaded binary packages are in\n",
      "\tC:\\Users\\proma.gupta\\AppData\\Local\\Temp\\RtmpobVftL\\downloaded_packages\n"
     ]
    },
    {
     "name": "stderr",
     "output_type": "stream",
     "text": [
      "installing the source packages 'generics', 'sandwich', 'maxLik', 'Rdpack', 'plm'\n",
      "\n",
      "Warning message in install.packages(\"plm\"):\n",
      "\"installation of package 'plm' had non-zero exit status\""
     ]
    },
    {
     "ename": "ERROR",
     "evalue": "Error in library(plm): there is no package called 'plm'\n",
     "output_type": "error",
     "traceback": [
      "Error in library(plm): there is no package called 'plm'\nTraceback:\n",
      "1. library(plm)"
     ]
    }
   ],
   "source": [
    "install.packages(\"plm\")\n",
    "library(plm)"
   ]
  },
  {
   "cell_type": "code",
   "execution_count": 4,
   "id": "01699008",
   "metadata": {},
   "outputs": [
    {
     "data": {
      "text/html": [
       "'C:/Users/proma.gupta/Desktop/jupyter_practice'"
      ],
      "text/latex": [
       "'C:/Users/proma.gupta/Desktop/jupyter\\_practice'"
      ],
      "text/markdown": [
       "'C:/Users/proma.gupta/Desktop/jupyter_practice'"
      ],
      "text/plain": [
       "[1] \"C:/Users/proma.gupta/Desktop/jupyter_practice\""
      ]
     },
     "metadata": {},
     "output_type": "display_data"
    }
   ],
   "source": [
    "getwd()\n",
    "setwd(\"/Users/proma.gupta/Desktop/jupyter_practice/Panel Data\")"
   ]
  },
  {
   "cell_type": "code",
   "execution_count": null,
   "id": "ec6fe30f",
   "metadata": {},
   "outputs": [],
   "source": []
  },
  {
   "cell_type": "code",
   "execution_count": null,
   "id": "dbe600fa",
   "metadata": {},
   "outputs": [],
   "source": []
  },
  {
   "cell_type": "code",
   "execution_count": null,
   "id": "99995d68",
   "metadata": {},
   "outputs": [],
   "source": []
  }
 ],
 "metadata": {
  "kernelspec": {
   "display_name": "R",
   "language": "R",
   "name": "ir"
  },
  "language_info": {
   "codemirror_mode": "r",
   "file_extension": ".r",
   "mimetype": "text/x-r-source",
   "name": "R",
   "pygments_lexer": "r",
   "version": "3.6.1"
  }
 },
 "nbformat": 4,
 "nbformat_minor": 5
}
