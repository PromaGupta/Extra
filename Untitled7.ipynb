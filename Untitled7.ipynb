{
 "cells": [
  {
   "cell_type": "code",
   "execution_count": 1,
   "id": "3814b6d3",
   "metadata": {},
   "outputs": [
    {
     "ename": "ModuleNotFoundError",
     "evalue": "No module named 'graphlab'",
     "output_type": "error",
     "traceback": [
      "\u001b[1;31m---------------------------------------------------------------------------\u001b[0m",
      "\u001b[1;31mModuleNotFoundError\u001b[0m                       Traceback (most recent call last)",
      "\u001b[1;32mC:\\Users\\PROMA~1.GUP\\AppData\\Local\\Temp/ipykernel_14260/4196338701.py\u001b[0m in \u001b[0;36m<module>\u001b[1;34m\u001b[0m\n\u001b[1;32m----> 1\u001b[1;33m \u001b[1;32mimport\u001b[0m \u001b[0mgraphlab\u001b[0m \u001b[1;32mas\u001b[0m \u001b[0mgl\u001b[0m\u001b[1;33m\u001b[0m\u001b[1;33m\u001b[0m\u001b[0m\n\u001b[0m\u001b[0;32m      2\u001b[0m \u001b[1;32mfrom\u001b[0m \u001b[0m__future__\u001b[0m \u001b[1;32mimport\u001b[0m \u001b[0mdivision\u001b[0m\u001b[1;33m\u001b[0m\u001b[1;33m\u001b[0m\u001b[0m\n\u001b[0;32m      3\u001b[0m \u001b[1;32mfrom\u001b[0m \u001b[0mdatetime\u001b[0m \u001b[1;32mimport\u001b[0m \u001b[0mdatetime\u001b[0m\u001b[1;33m\u001b[0m\u001b[1;33m\u001b[0m\u001b[0m\n\u001b[0;32m      4\u001b[0m \u001b[1;32mfrom\u001b[0m \u001b[0myahoo_finance\u001b[0m \u001b[1;32mimport\u001b[0m \u001b[0mShare\u001b[0m\u001b[1;33m\u001b[0m\u001b[1;33m\u001b[0m\u001b[0m\n",
      "\u001b[1;31mModuleNotFoundError\u001b[0m: No module named 'graphlab'"
     ]
    }
   ],
   "source": [
    "import graphlab as gl\n",
    "from __future__ import division\n",
    "from datetime import datetime\n",
    "from yahoo_finance import Share"
   ]
  },
  {
   "cell_type": "code",
   "execution_count": 4,
   "id": "292c78f6",
   "metadata": {},
   "outputs": [
    {
     "name": "stderr",
     "output_type": "stream",
     "text": [
      "ERROR: Could not find a version that satisfies the requirement graphlab-create (from versions: none)\n",
      "ERROR: No matching distribution found for graphlab-create\n"
     ]
    }
   ],
   "source": [
    "! pip install graphlab-create"
   ]
  },
  {
   "cell_type": "code",
   "execution_count": null,
   "id": "b3c5f073",
   "metadata": {},
   "outputs": [],
   "source": [
    "!pip install --upgrade --no-cache-dir https://get.graphlab.com/GraphLab-Create/2.1/proma.gupta@ndsu.edu/your product key here/GraphLab-Create-License.tar.gz"
   ]
  },
  {
   "cell_type": "code",
   "execution_count": 5,
   "id": "b71c27a4",
   "metadata": {},
   "outputs": [
    {
     "name": "stdout",
     "output_type": "stream",
     "text": [
      "Collecting turicreate"
     ]
    },
    {
     "name": "stderr",
     "output_type": "stream",
     "text": [
      "  ERROR: Command errored out with exit status 1:\n",
      "   command: 'C:\\Users\\proma.gupta\\Anaconda3\\python.exe' -u -c 'import io, os, sys, setuptools, tokenize; sys.argv[0] = '\"'\"'C:\\\\Users\\\\proma.gupta\\\\AppData\\\\Local\\\\Temp\\\\pip-install-8hjel0zp\\\\turicreate_c023c3f3a48845e194956bb2d0575bd1\\\\setup.py'\"'\"'; __file__='\"'\"'C:\\\\Users\\\\proma.gupta\\\\AppData\\\\Local\\\\Temp\\\\pip-install-8hjel0zp\\\\turicreate_c023c3f3a48845e194956bb2d0575bd1\\\\setup.py'\"'\"';f = getattr(tokenize, '\"'\"'open'\"'\"', open)(__file__) if os.path.exists(__file__) else io.StringIO('\"'\"'from setuptools import setup; setup()'\"'\"');code = f.read().replace('\"'\"'\\r\\n'\"'\"', '\"'\"'\\n'\"'\"');f.close();exec(compile(code, __file__, '\"'\"'exec'\"'\"'))' bdist_wheel -d 'C:\\Users\\proma.gupta\\AppData\\Local\\Temp\\pip-wheel-dsr3oedb'\n",
      "       cwd: C:\\Users\\proma.gupta\\AppData\\Local\\Temp\\pip-install-8hjel0zp\\turicreate_c023c3f3a48845e194956bb2d0575bd1\\\n",
      "  Complete output (31 lines):\n",
      "  running bdist_wheel\n",
      "  running build\n",
      "  installing to build\\bdist.win-amd64\\wheel\n",
      "  running install\n",
      "  \n",
      "  \n",
      "  \n",
      "          ==================================================================================\n",
      "          TURICREATE ERROR\n",
      "  \n",
      "          If you see this message, pip install did not find an available binary package\n",
      "          for your system.\n",
      "  \n",
      "          Supported Platforms:\n",
      "              * macOS 10.12+ x86_64.\n",
      "              * Linux x86_64 (including WSL on Windows 10)."
     ]
    },
    {
     "name": "stdout",
     "output_type": "stream",
     "text": [
      "\n",
      "  Downloading turicreate-6.4.tar.gz (1.9 kB)\n",
      "Building wheels for collected packages: turicreate\n",
      "  Building wheel for turicreate (setup.py): started\n",
      "  Building wheel for turicreate (setup.py): finished with status 'error'\n",
      "  Running setup.py clean for turicreate\n",
      "Failed to build turicreate\n",
      "Installing collected packages: turicreate\n",
      "    Running setup.py install for turicreate: started\n",
      "    Running setup.py install for turicreate: finished with status 'error'\n"
     ]
    },
    {
     "name": "stderr",
     "output_type": "stream",
     "text": [
      "\n",
      "  \n",
      "          Support Python Versions:\n",
      "              * 2.7\n",
      "              * 3.5\n",
      "              * 3.6\n",
      "              * 3.7\n",
      "              * 3.8\n",
      "  \n",
      "          Another possible cause of this error is an outdated pip version. Try:\n",
      "              `pip install -U pip`\n",
      "  \n",
      "          ==================================================================================\n",
      "  \n",
      "  \n",
      "  \n",
      "  ----------------------------------------\n",
      "  ERROR: Failed building wheel for turicreate\n",
      "    ERROR: Command errored out with exit status 1:\n",
      "     command: 'C:\\Users\\proma.gupta\\Anaconda3\\python.exe' -u -c 'import io, os, sys, setuptools, tokenize; sys.argv[0] = '\"'\"'C:\\\\Users\\\\proma.gupta\\\\AppData\\\\Local\\\\Temp\\\\pip-install-8hjel0zp\\\\turicreate_c023c3f3a48845e194956bb2d0575bd1\\\\setup.py'\"'\"'; __file__='\"'\"'C:\\\\Users\\\\proma.gupta\\\\AppData\\\\Local\\\\Temp\\\\pip-install-8hjel0zp\\\\turicreate_c023c3f3a48845e194956bb2d0575bd1\\\\setup.py'\"'\"';f = getattr(tokenize, '\"'\"'open'\"'\"', open)(__file__) if os.path.exists(__file__) else io.StringIO('\"'\"'from setuptools import setup; setup()'\"'\"');code = f.read().replace('\"'\"'\\r\\n'\"'\"', '\"'\"'\\n'\"'\"');f.close();exec(compile(code, __file__, '\"'\"'exec'\"'\"'))' install --record 'C:\\Users\\proma.gupta\\AppData\\Local\\Temp\\pip-record-05fuwii1\\install-record.txt' --single-version-externally-managed --compile --install-headers 'C:\\Users\\proma.gupta\\Anaconda3\\Include\\turicreate'\n",
      "         cwd: C:\\Users\\proma.gupta\\AppData\\Local\\Temp\\pip-install-8hjel0zp\\turicreate_c023c3f3a48845e194956bb2d0575bd1\\\n",
      "    Complete output (28 lines):\n",
      "    running install\n",
      "    \n",
      "    \n",
      "    \n",
      "            ==================================================================================\n",
      "            TURICREATE ERROR\n",
      "    \n",
      "            If you see this message, pip install did not find an available binary package\n",
      "            for your system.\n",
      "    \n",
      "            Supported Platforms:\n",
      "                * macOS 10.12+ x86_64.\n",
      "                * Linux x86_64 (including WSL on Windows 10).\n",
      "    \n",
      "            Support Python Versions:\n",
      "                * 2.7\n",
      "                * 3.5\n",
      "                * 3.6\n",
      "                * 3.7\n",
      "                * 3.8\n",
      "    \n",
      "            Another possible cause of this error is an outdated pip version. Try:\n",
      "                `pip install -U pip`\n",
      "    \n",
      "            ==================================================================================\n",
      "    \n",
      "    \n",
      "    \n",
      "    ----------------------------------------\n",
      "ERROR: Command errored out with exit status 1: 'C:\\Users\\proma.gupta\\Anaconda3\\python.exe' -u -c 'import io, os, sys, setuptools, tokenize; sys.argv[0] = '\"'\"'C:\\\\Users\\\\proma.gupta\\\\AppData\\\\Local\\\\Temp\\\\pip-install-8hjel0zp\\\\turicreate_c023c3f3a48845e194956bb2d0575bd1\\\\setup.py'\"'\"'; __file__='\"'\"'C:\\\\Users\\\\proma.gupta\\\\AppData\\\\Local\\\\Temp\\\\pip-install-8hjel0zp\\\\turicreate_c023c3f3a48845e194956bb2d0575bd1\\\\setup.py'\"'\"';f = getattr(tokenize, '\"'\"'open'\"'\"', open)(__file__) if os.path.exists(__file__) else io.StringIO('\"'\"'from setuptools import setup; setup()'\"'\"');code = f.read().replace('\"'\"'\\r\\n'\"'\"', '\"'\"'\\n'\"'\"');f.close();exec(compile(code, __file__, '\"'\"'exec'\"'\"'))' install --record 'C:\\Users\\proma.gupta\\AppData\\Local\\Temp\\pip-record-05fuwii1\\install-record.txt' --single-version-externally-managed --compile --install-headers 'C:\\Users\\proma.gupta\\Anaconda3\\Include\\turicreate' Check the logs for full command output.\n"
     ]
    }
   ],
   "source": [
    "!pip install turicreate"
   ]
  },
  {
   "cell_type": "code",
   "execution_count": null,
   "id": "87523385",
   "metadata": {},
   "outputs": [],
   "source": []
  }
 ],
 "metadata": {
  "kernelspec": {
   "display_name": "Python 3 (ipykernel)",
   "language": "python",
   "name": "python3"
  },
  "language_info": {
   "codemirror_mode": {
    "name": "ipython",
    "version": 3
   },
   "file_extension": ".py",
   "mimetype": "text/x-python",
   "name": "python",
   "nbconvert_exporter": "python",
   "pygments_lexer": "ipython3",
   "version": "3.9.12"
  }
 },
 "nbformat": 4,
 "nbformat_minor": 5
}
