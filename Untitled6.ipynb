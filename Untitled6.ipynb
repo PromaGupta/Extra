{
 "cells": [
  {
   "cell_type": "code",
   "execution_count": 2,
   "id": "3bd2a3c8",
   "metadata": {},
   "outputs": [
    {
     "ename": "ModuleNotFoundError",
     "evalue": "No module named 'pgmpy'",
     "output_type": "error",
     "traceback": [
      "\u001b[1;31m---------------------------------------------------------------------------\u001b[0m",
      "\u001b[1;31mModuleNotFoundError\u001b[0m                       Traceback (most recent call last)",
      "Input \u001b[1;32mIn [2]\u001b[0m, in \u001b[0;36m<cell line: 1>\u001b[1;34m()\u001b[0m\n\u001b[1;32m----> 1\u001b[0m \u001b[38;5;28;01mimport\u001b[39;00m \u001b[38;5;21;01mpgmpy\u001b[39;00m\n",
      "\u001b[1;31mModuleNotFoundError\u001b[0m: No module named 'pgmpy'"
     ]
    }
   ],
   "source": [
    "import pgmpy"
   ]
  },
  {
   "cell_type": "code",
   "execution_count": 3,
   "id": "5eb08e2b",
   "metadata": {},
   "outputs": [
    {
     "name": "stdout",
     "output_type": "stream",
     "text": [
      "Collecting pgmpy\n",
      "  Downloading pgmpy-0.1.18-py3-none-any.whl (1.9 MB)\n",
      "Requirement already satisfied: pandas in c:\\users\\proma.gupta\\anaconda3\\lib\\site-packages (from pgmpy) (1.4.2)\n",
      "Requirement already satisfied: networkx in c:\\users\\proma.gupta\\anaconda3\\lib\\site-packages (from pgmpy) (2.7.1)\n",
      "Requirement already satisfied: tqdm in c:\\users\\proma.gupta\\anaconda3\\lib\\site-packages (from pgmpy) (4.64.0)\n",
      "Requirement already satisfied: joblib in c:\\users\\proma.gupta\\anaconda3\\lib\\site-packages (from pgmpy) (1.1.0)\n",
      "Requirement already satisfied: scipy in c:\\users\\proma.gupta\\anaconda3\\lib\\site-packages (from pgmpy) (1.7.3)\n",
      "Requirement already satisfied: statsmodels in c:\\users\\proma.gupta\\anaconda3\\lib\\site-packages (from pgmpy) (0.13.2)\n",
      "Requirement already satisfied: scikit-learn in c:\\users\\proma.gupta\\anaconda3\\lib\\site-packages (from pgmpy) (1.0.2)\n",
      "Requirement already satisfied: pyparsing in c:\\users\\proma.gupta\\anaconda3\\lib\\site-packages (from pgmpy) (3.0.4)\n",
      "Collecting torch\n",
      "  Downloading torch-1.11.0-cp39-cp39-win_amd64.whl (157.9 MB)\n",
      "Requirement already satisfied: numpy in c:\\users\\proma.gupta\\anaconda3\\lib\\site-packages (from pgmpy) (1.21.5)\n",
      "Requirement already satisfied: pytz>=2020.1 in c:\\users\\proma.gupta\\anaconda3\\lib\\site-packages (from pandas->pgmpy) (2021.3)\n",
      "Requirement already satisfied: python-dateutil>=2.8.1 in c:\\users\\proma.gupta\\anaconda3\\lib\\site-packages (from pandas->pgmpy) (2.8.2)\n",
      "Requirement already satisfied: six>=1.5 in c:\\users\\proma.gupta\\anaconda3\\lib\\site-packages (from python-dateutil>=2.8.1->pandas->pgmpy) (1.16.0)\n",
      "Requirement already satisfied: threadpoolctl>=2.0.0 in c:\\users\\proma.gupta\\anaconda3\\lib\\site-packages (from scikit-learn->pgmpy) (2.2.0)\n",
      "Requirement already satisfied: patsy>=0.5.2 in c:\\users\\proma.gupta\\anaconda3\\lib\\site-packages (from statsmodels->pgmpy) (0.5.2)\n",
      "Requirement already satisfied: packaging>=21.3 in c:\\users\\proma.gupta\\anaconda3\\lib\\site-packages (from statsmodels->pgmpy) (21.3)\n",
      "Requirement already satisfied: typing-extensions in c:\\users\\proma.gupta\\anaconda3\\lib\\site-packages (from torch->pgmpy) (4.1.1)\n",
      "Requirement already satisfied: colorama in c:\\users\\proma.gupta\\anaconda3\\lib\\site-packages (from tqdm->pgmpy) (0.4.4)\n",
      "Installing collected packages: torch, pgmpy\n",
      "Successfully installed pgmpy-0.1.18 torch-1.11.0\n"
     ]
    }
   ],
   "source": [
    "!pip install pgmpy"
   ]
  },
  {
   "cell_type": "code",
   "execution_count": 4,
   "id": "1d465f14",
   "metadata": {},
   "outputs": [],
   "source": [
    "import pgmpy "
   ]
  },
  {
   "cell_type": "code",
   "execution_count": 5,
   "id": "8ae34996",
   "metadata": {},
   "outputs": [
    {
     "name": "stdout",
     "output_type": "stream",
     "text": [
      "<module 'pgmpy' from 'C:\\\\Users\\\\proma.gupta\\\\Anaconda3\\\\lib\\\\site-packages\\\\pgmpy\\\\__init__.py'>\n"
     ]
    }
   ],
   "source": [
    "print(pgmpy)"
   ]
  },
  {
   "cell_type": "code",
   "execution_count": null,
   "id": "a5fd5d4e",
   "metadata": {},
   "outputs": [],
   "source": []
  },
  {
   "cell_type": "code",
   "execution_count": null,
   "id": "f237aafb",
   "metadata": {},
   "outputs": [],
   "source": []
  }
 ],
 "metadata": {
  "kernelspec": {
   "display_name": "Python 3 (ipykernel)",
   "language": "python",
   "name": "python3"
  },
  "language_info": {
   "codemirror_mode": {
    "name": "ipython",
    "version": 3
   },
   "file_extension": ".py",
   "mimetype": "text/x-python",
   "name": "python",
   "nbconvert_exporter": "python",
   "pygments_lexer": "ipython3",
   "version": "3.9.12"
  }
 },
 "nbformat": 4,
 "nbformat_minor": 5
}
